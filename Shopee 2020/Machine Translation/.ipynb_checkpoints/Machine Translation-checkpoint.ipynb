{
 "cells": [
  {
   "cell_type": "markdown",
   "metadata": {},
   "source": [
    "# Machine Translation"
   ]
  },
  {
   "cell_type": "code",
   "execution_count": 7,
   "metadata": {},
   "outputs": [],
   "source": [
    "import pandas as pd"
   ]
  },
  {
   "cell_type": "code",
   "execution_count": 8,
   "metadata": {},
   "outputs": [],
   "source": [
    "train_en_df = pd.read_csv('train_en.csv', header=0)\n",
    "train_tcn_df = pd.read_csv('train_tcn.csv', header=0)\n",
    "test_df = pd.read_csv('test.csv', header=0)"
   ]
  },
  {
   "cell_type": "code",
   "execution_count": 9,
   "metadata": {},
   "outputs": [
    {
     "data": {
      "text/html": [
       "<div>\n",
       "<style scoped>\n",
       "    .dataframe tbody tr th:only-of-type {\n",
       "        vertical-align: middle;\n",
       "    }\n",
       "\n",
       "    .dataframe tbody tr th {\n",
       "        vertical-align: top;\n",
       "    }\n",
       "\n",
       "    .dataframe thead th {\n",
       "        text-align: right;\n",
       "    }\n",
       "</style>\n",
       "<table border=\"1\" class=\"dataframe\">\n",
       "  <thead>\n",
       "    <tr style=\"text-align: right;\">\n",
       "      <th></th>\n",
       "      <th>product_title</th>\n",
       "      <th>category</th>\n",
       "    </tr>\n",
       "  </thead>\n",
       "  <tbody>\n",
       "    <tr>\n",
       "      <th>0</th>\n",
       "      <td>Recollections Color Splash Clear Stamps &amp; Stencil</td>\n",
       "      <td>Hobbies &amp; Stationery</td>\n",
       "    </tr>\n",
       "    <tr>\n",
       "      <th>1</th>\n",
       "      <td>soap,lotion scrub set 400</td>\n",
       "      <td>Health &amp; Personal Care</td>\n",
       "    </tr>\n",
       "    <tr>\n",
       "      <th>2</th>\n",
       "      <td>Spigen Galaxy S10e Case Tough Armor Gunmetal</td>\n",
       "      <td>Mobile Accessories</td>\n",
       "    </tr>\n",
       "    <tr>\n",
       "      <th>3</th>\n",
       "      <td>Acrylic Lanalon Bright Red</td>\n",
       "      <td>Hobbies &amp; Stationery</td>\n",
       "    </tr>\n",
       "    <tr>\n",
       "      <th>4</th>\n",
       "      <td>303 FLAT SHEET/Blanket 100% cotton</td>\n",
       "      <td>Home &amp; Living</td>\n",
       "    </tr>\n",
       "    <tr>\n",
       "      <th>...</th>\n",
       "      <td>...</td>\n",
       "      <td>...</td>\n",
       "    </tr>\n",
       "    <tr>\n",
       "      <th>499995</th>\n",
       "      <td>rocker arm roller racing mio</td>\n",
       "      <td>Motors</td>\n",
       "    </tr>\n",
       "    <tr>\n",
       "      <th>499996</th>\n",
       "      <td>Secosana (preloved bag)</td>\n",
       "      <td>Women's Bags</td>\n",
       "    </tr>\n",
       "    <tr>\n",
       "      <th>499997</th>\n",
       "      <td>jag bag</td>\n",
       "      <td>Women's Bags</td>\n",
       "    </tr>\n",
       "    <tr>\n",
       "      <th>499998</th>\n",
       "      <td>Baby wipes 15 sheets (Alcohol and Paraben Free...</td>\n",
       "      <td>Babies &amp; Kids</td>\n",
       "    </tr>\n",
       "    <tr>\n",
       "      <th>499999</th>\n",
       "      <td>PRE-LOVED ORIGINAL GREEN FINO BAG</td>\n",
       "      <td>Women's Bags</td>\n",
       "    </tr>\n",
       "  </tbody>\n",
       "</table>\n",
       "<p>500000 rows × 2 columns</p>\n",
       "</div>"
      ],
      "text/plain": [
       "                                            product_title  \\\n",
       "0       Recollections Color Splash Clear Stamps & Stencil   \n",
       "1                               soap,lotion scrub set 400   \n",
       "2            Spigen Galaxy S10e Case Tough Armor Gunmetal   \n",
       "3                              Acrylic Lanalon Bright Red   \n",
       "4                      303 FLAT SHEET/Blanket 100% cotton   \n",
       "...                                                   ...   \n",
       "499995                       rocker arm roller racing mio   \n",
       "499996                            Secosana (preloved bag)   \n",
       "499997                                            jag bag   \n",
       "499998  Baby wipes 15 sheets (Alcohol and Paraben Free...   \n",
       "499999                  PRE-LOVED ORIGINAL GREEN FINO BAG   \n",
       "\n",
       "                      category  \n",
       "0         Hobbies & Stationery  \n",
       "1       Health & Personal Care  \n",
       "2           Mobile Accessories  \n",
       "3         Hobbies & Stationery  \n",
       "4                Home & Living  \n",
       "...                        ...  \n",
       "499995                  Motors  \n",
       "499996            Women's Bags  \n",
       "499997            Women's Bags  \n",
       "499998           Babies & Kids  \n",
       "499999            Women's Bags  \n",
       "\n",
       "[500000 rows x 2 columns]"
      ]
     },
     "execution_count": 9,
     "metadata": {},
     "output_type": "execute_result"
    }
   ],
   "source": [
    "train_en_df"
   ]
  },
  {
   "cell_type": "code",
   "execution_count": 10,
   "metadata": {},
   "outputs": [
    {
     "data": {
      "text/html": [
       "<div>\n",
       "<style scoped>\n",
       "    .dataframe tbody tr th:only-of-type {\n",
       "        vertical-align: middle;\n",
       "    }\n",
       "\n",
       "    .dataframe tbody tr th {\n",
       "        vertical-align: top;\n",
       "    }\n",
       "\n",
       "    .dataframe thead th {\n",
       "        text-align: right;\n",
       "    }\n",
       "</style>\n",
       "<table border=\"1\" class=\"dataframe\">\n",
       "  <thead>\n",
       "    <tr style=\"text-align: right;\">\n",
       "      <th></th>\n",
       "      <th>product_title</th>\n",
       "      <th>category</th>\n",
       "    </tr>\n",
       "  </thead>\n",
       "  <tbody>\n",
       "    <tr>\n",
       "      <th>0</th>\n",
       "      <td>Gucci Gucci Guilty Pour Femme Stud Edition 罪愛女...</td>\n",
       "      <td>Health &amp; Beauty</td>\n",
       "    </tr>\n",
       "    <tr>\n",
       "      <th>1</th>\n",
       "      <td>（二手）PS4 GTA 5 俠盜獵車手5 Grand Theif Auto V繁體 中文版</td>\n",
       "      <td>Game Kingdom</td>\n",
       "    </tr>\n",
       "    <tr>\n",
       "      <th>2</th>\n",
       "      <td>百獸卡</td>\n",
       "      <td>Life &amp; Entertainment</td>\n",
       "    </tr>\n",
       "    <tr>\n",
       "      <th>3</th>\n",
       "      <td>nac nac活氧全效柔衣素</td>\n",
       "      <td>Mother &amp; Baby</td>\n",
       "    </tr>\n",
       "    <tr>\n",
       "      <th>4</th>\n",
       "      <td>#Nike耐吉官方F.C. 男子足球長褲新款標準型 拒水 拉鏈褲腳\\nCD0557</td>\n",
       "      <td>Men's Apparel</td>\n",
       "    </tr>\n",
       "    <tr>\n",
       "      <th>...</th>\n",
       "      <td>...</td>\n",
       "      <td>...</td>\n",
       "    </tr>\n",
       "    <tr>\n",
       "      <th>499995</th>\n",
       "      <td>Dress</td>\n",
       "      <td>Women's Apparel</td>\n",
       "    </tr>\n",
       "    <tr>\n",
       "      <th>499996</th>\n",
       "      <td>Lilian Lin</td>\n",
       "      <td>Food &amp; Beverages</td>\n",
       "    </tr>\n",
       "    <tr>\n",
       "      <th>499997</th>\n",
       "      <td>77 抹茶杏仁乳加 77乳加 減甜 大人味 大人的77 宇治抹茶 杏仁 宇治抹茶杏仁 抹茶 ...</td>\n",
       "      <td>Food &amp; Beverages</td>\n",
       "    </tr>\n",
       "    <tr>\n",
       "      <th>499998</th>\n",
       "      <td>Panasonic 國際牌  電動 牙刷頭  (EW-DM81 專用刷頭) WEW0974-W</td>\n",
       "      <td>Home Electronic</td>\n",
       "    </tr>\n",
       "    <tr>\n",
       "      <th>499999</th>\n",
       "      <td>正品 新款紅眼 戰神哈奴曼手鐲 哈魯曼手環 戰神哈努曼 龍波雨水 新款紅眼 提升勇氣自信心 ...</td>\n",
       "      <td>Life &amp; Entertainment</td>\n",
       "    </tr>\n",
       "  </tbody>\n",
       "</table>\n",
       "<p>500000 rows × 2 columns</p>\n",
       "</div>"
      ],
      "text/plain": [
       "                                            product_title  \\\n",
       "0       Gucci Gucci Guilty Pour Femme Stud Edition 罪愛女...   \n",
       "1           （二手）PS4 GTA 5 俠盜獵車手5 Grand Theif Auto V繁體 中文版   \n",
       "2                                                     百獸卡   \n",
       "3                                          nac nac活氧全效柔衣素   \n",
       "4               #Nike耐吉官方F.C. 男子足球長褲新款標準型 拒水 拉鏈褲腳\\nCD0557   \n",
       "...                                                   ...   \n",
       "499995                                              Dress   \n",
       "499996                                         Lilian Lin   \n",
       "499997  77 抹茶杏仁乳加 77乳加 減甜 大人味 大人的77 宇治抹茶 杏仁 宇治抹茶杏仁 抹茶 ...   \n",
       "499998    Panasonic 國際牌  電動 牙刷頭  (EW-DM81 專用刷頭) WEW0974-W   \n",
       "499999  正品 新款紅眼 戰神哈奴曼手鐲 哈魯曼手環 戰神哈努曼 龍波雨水 新款紅眼 提升勇氣自信心 ...   \n",
       "\n",
       "                    category  \n",
       "0            Health & Beauty  \n",
       "1               Game Kingdom  \n",
       "2       Life & Entertainment  \n",
       "3              Mother & Baby  \n",
       "4              Men's Apparel  \n",
       "...                      ...  \n",
       "499995       Women's Apparel  \n",
       "499996      Food & Beverages  \n",
       "499997      Food & Beverages  \n",
       "499998       Home Electronic  \n",
       "499999  Life & Entertainment  \n",
       "\n",
       "[500000 rows x 2 columns]"
      ]
     },
     "execution_count": 10,
     "metadata": {},
     "output_type": "execute_result"
    }
   ],
   "source": [
    "train_tcn_df"
   ]
  },
  {
   "cell_type": "code",
   "execution_count": 11,
   "metadata": {},
   "outputs": [
    {
     "data": {
      "text/html": [
       "<div>\n",
       "<style scoped>\n",
       "    .dataframe tbody tr th:only-of-type {\n",
       "        vertical-align: middle;\n",
       "    }\n",
       "\n",
       "    .dataframe tbody tr th {\n",
       "        vertical-align: top;\n",
       "    }\n",
       "\n",
       "    .dataframe thead th {\n",
       "        text-align: right;\n",
       "    }\n",
       "</style>\n",
       "<table border=\"1\" class=\"dataframe\">\n",
       "  <thead>\n",
       "    <tr style=\"text-align: right;\">\n",
       "      <th></th>\n",
       "      <th>product_title</th>\n",
       "      <th>category</th>\n",
       "    </tr>\n",
       "  </thead>\n",
       "  <tbody>\n",
       "    <tr>\n",
       "      <th>0</th>\n",
       "      <td>Xing★內刷毛孕婦打底褲側邊條紋春裝外穿托腹長褲顯瘦打底加大尺碼孕婦褲</td>\n",
       "      <td>Sports &amp; Travel</td>\n",
       "    </tr>\n",
       "    <tr>\n",
       "      <th>1</th>\n",
       "      <td>★2★蕾絲花邊孕婦安全褲韓版時尚百搭休閒防走光三分打底褲托腹褲</td>\n",
       "      <td>Women's Apparel</td>\n",
       "    </tr>\n",
       "    <tr>\n",
       "      <th>2</th>\n",
       "      <td>安啦內衣春夏少女發育文胸無鋼圈運動透氣網紗網眼背心式有插片雙層少女國中生女生穿著感超舒適透氣...</td>\n",
       "      <td>Men's Apparel</td>\n",
       "    </tr>\n",
       "    <tr>\n",
       "      <th>3</th>\n",
       "      <td>兒童泳衣歐美女童表演服兒童泳衣美人魚cosplay泳衣連衣裙時尚小美人魚衣服</td>\n",
       "      <td>Sports &amp; Travel</td>\n",
       "    </tr>\n",
       "    <tr>\n",
       "      <th>4</th>\n",
       "      <td>韓國成人加粗加厚發繩兒童髮圈女童橡皮筋頭飾紮頭發的皮筋</td>\n",
       "      <td>Babies &amp; Kids</td>\n",
       "    </tr>\n",
       "    <tr>\n",
       "      <th>...</th>\n",
       "      <td>...</td>\n",
       "      <td>...</td>\n",
       "    </tr>\n",
       "    <tr>\n",
       "      <th>495</th>\n",
       "      <td>蘋果AirPods保護套Batman 無線耳機蘋果AirPods保護殼防丟耳機收納掛繩蘋果耳...</td>\n",
       "      <td>Motors</td>\n",
       "    </tr>\n",
       "    <tr>\n",
       "      <th>496</th>\n",
       "      <td>電容麥克風話筒G2直播聲卡組合電容咪高峰手機電腦通用音效卡網絡直播K歌聲卡設備有電音混響多特...</td>\n",
       "      <td>Home &amp; Living</td>\n",
       "    </tr>\n",
       "    <tr>\n",
       "      <th>497</th>\n",
       "      <td>磨砂防指紋iPhoneX XR Max 6 7 8plus 11ProMax不碎邊霧面鋼化玻...</td>\n",
       "      <td>Home Entertainment</td>\n",
       "    </tr>\n",
       "    <tr>\n",
       "      <th>498</th>\n",
       "      <td>潮芝麻街KAWS 適用於蘋果airpods耳機充電倉情侶男款保護套藍牙耳機防摔防刮花防塵保護殼</td>\n",
       "      <td>Home Appliances</td>\n",
       "    </tr>\n",
       "    <tr>\n",
       "      <th>499</th>\n",
       "      <td>村上隆太陽花Airpods無線藍牙耳機保護套浮雕手感硬殼保護套airpods1/2代通用防丟收納盒</td>\n",
       "      <td>Makeup &amp; Fragrances</td>\n",
       "    </tr>\n",
       "  </tbody>\n",
       "</table>\n",
       "<p>500 rows × 2 columns</p>\n",
       "</div>"
      ],
      "text/plain": [
       "                                         product_title             category\n",
       "0                 Xing★內刷毛孕婦打底褲側邊條紋春裝外穿托腹長褲顯瘦打底加大尺碼孕婦褲      Sports & Travel\n",
       "1                      ★2★蕾絲花邊孕婦安全褲韓版時尚百搭休閒防走光三分打底褲托腹褲      Women's Apparel\n",
       "2    安啦內衣春夏少女發育文胸無鋼圈運動透氣網紗網眼背心式有插片雙層少女國中生女生穿著感超舒適透氣...        Men's Apparel\n",
       "3               兒童泳衣歐美女童表演服兒童泳衣美人魚cosplay泳衣連衣裙時尚小美人魚衣服      Sports & Travel\n",
       "4                          韓國成人加粗加厚發繩兒童髮圈女童橡皮筋頭飾紮頭發的皮筋        Babies & Kids\n",
       "..                                                 ...                  ...\n",
       "495  蘋果AirPods保護套Batman 無線耳機蘋果AirPods保護殼防丟耳機收納掛繩蘋果耳...               Motors\n",
       "496  電容麥克風話筒G2直播聲卡組合電容咪高峰手機電腦通用音效卡網絡直播K歌聲卡設備有電音混響多特...        Home & Living\n",
       "497  磨砂防指紋iPhoneX XR Max 6 7 8plus 11ProMax不碎邊霧面鋼化玻...   Home Entertainment\n",
       "498    潮芝麻街KAWS 適用於蘋果airpods耳機充電倉情侶男款保護套藍牙耳機防摔防刮花防塵保護殼      Home Appliances\n",
       "499  村上隆太陽花Airpods無線藍牙耳機保護套浮雕手感硬殼保護套airpods1/2代通用防丟收納盒  Makeup & Fragrances\n",
       "\n",
       "[500 rows x 2 columns]"
      ]
     },
     "execution_count": 11,
     "metadata": {},
     "output_type": "execute_result"
    }
   ],
   "source": [
    "test_df"
   ]
  },
  {
   "cell_type": "markdown",
   "metadata": {},
   "source": [
    "### Some problems\n",
    "\n",
    "- The catgeory `' Games & Collectibles\"'` is misspelled, remove the `\"` at the end and whitespace at the front.\n",
    "- Some traditional chinese product titles don't have a category.\n",
    "- The available categories in both languages are not the same."
   ]
  },
  {
   "cell_type": "code",
   "execution_count": 25,
   "metadata": {},
   "outputs": [
    {
     "data": {
      "text/plain": [
       "array(['Hobbies & Stationery', 'Health & Personal Care',\n",
       "       'Mobile Accessories', 'Home & Living', \"Women's Apparel\",\n",
       "       'Women Shoes', 'Babies & Kids', 'Women Accessories',\n",
       "       'Toys, Games & Collectibles', 'Groceries', 'Motors',\n",
       "       'Makeup & Fragrances', \"Women's Bags\", \"Men's Apparel\", 'Pet Care',\n",
       "       \"Men's Bags & Accessories\", 'Sports & Travel', 'Men Shoes',\n",
       "       'Gaming', 'Laptops & Computers', 'Home Entertainment',\n",
       "       'Mobiles & Gadgets', 'Cameras', 'Home Appliances',\n",
       "       'Consumer Electronics', ' Games & Collectibles\"',\n",
       "       'Digital Goods & Vouchers'], dtype=object)"
      ]
     },
     "execution_count": 25,
     "metadata": {},
     "output_type": "execute_result"
    }
   ],
   "source": [
    "train_en_df.category.unique()"
   ]
  },
  {
   "cell_type": "markdown",
   "metadata": {},
   "source": [
    "**18** traditional chinese product titles do not have a category, i.e. category `nan`"
   ]
  },
  {
   "cell_type": "code",
   "execution_count": 26,
   "metadata": {},
   "outputs": [
    {
     "data": {
      "text/plain": [
       "array(['Health & Beauty', 'Game Kingdom', 'Life & Entertainment',\n",
       "       'Mother & Baby', \"Men's Apparel\", \"Women's Apparel\", 'Women Bags',\n",
       "       'Women Shoes', 'Home & Living', 'Everything Else', 'Hardware & 3C',\n",
       "       \"Men's Bags& Accessories\", 'Sports & Outdoors', 'Helpbuy',\n",
       "       'Men Shoes', 'Books', 'Motors', 'Home Electronic',\n",
       "       'Food & Beverages', 'Mobile & Gadgets', 'Women Accessories',\n",
       "       'Pets', 'Tickets & Services', nan], dtype=object)"
      ]
     },
     "execution_count": 26,
     "metadata": {},
     "output_type": "execute_result"
    }
   ],
   "source": [
    "train_tcn_df.category.unique()"
   ]
  },
  {
   "cell_type": "code",
   "execution_count": 27,
   "metadata": {},
   "outputs": [
    {
     "data": {
      "text/plain": [
       "18"
      ]
     },
     "execution_count": 27,
     "metadata": {},
     "output_type": "execute_result"
    }
   ],
   "source": [
    "train_tcn_df.category.isna().sum()"
   ]
  },
  {
   "cell_type": "code",
   "execution_count": 28,
   "metadata": {
    "scrolled": true
   },
   "outputs": [
    {
     "data": {
      "text/html": [
       "<div>\n",
       "<style scoped>\n",
       "    .dataframe tbody tr th:only-of-type {\n",
       "        vertical-align: middle;\n",
       "    }\n",
       "\n",
       "    .dataframe tbody tr th {\n",
       "        vertical-align: top;\n",
       "    }\n",
       "\n",
       "    .dataframe thead th {\n",
       "        text-align: right;\n",
       "    }\n",
       "</style>\n",
       "<table border=\"1\" class=\"dataframe\">\n",
       "  <thead>\n",
       "    <tr style=\"text-align: right;\">\n",
       "      <th></th>\n",
       "      <th>product_title</th>\n",
       "      <th>category</th>\n",
       "    </tr>\n",
       "  </thead>\n",
       "  <tbody>\n",
       "    <tr>\n",
       "      <th>28655</th>\n",
       "      <td>Mother &amp; Baby</td>\n",
       "      <td>NaN</td>\n",
       "    </tr>\n",
       "    <tr>\n",
       "      <th>29865</th>\n",
       "      <td>Mobile &amp; Gadgets</td>\n",
       "      <td>NaN</td>\n",
       "    </tr>\n",
       "    <tr>\n",
       "      <th>47035</th>\n",
       "      <td>限時下殺【九折】免運~</td>\n",
       "      <td>NaN</td>\n",
       "    </tr>\n",
       "    <tr>\n",
       "      <th>53880</th>\n",
       "      <td>Sports &amp; Outdoors</td>\n",
       "      <td>NaN</td>\n",
       "    </tr>\n",
       "    <tr>\n",
       "      <th>71553</th>\n",
       "      <td>ASUS Zenpower 行動電源10050</td>\n",
       "      <td>NaN</td>\n",
       "    </tr>\n",
       "    <tr>\n",
       "      <th>164636</th>\n",
       "      <td>●現貨●SUN汽車工具 JTC 3722 3723 3724 套筒 插座 鐵 套筒夾 收納架...</td>\n",
       "      <td>NaN</td>\n",
       "    </tr>\n",
       "    <tr>\n",
       "      <th>185776</th>\n",
       "      <td>《 阿母の手作坊</td>\n",
       "      <td>NaN</td>\n",
       "    </tr>\n",
       "    <tr>\n",
       "      <th>192286</th>\n",
       "      <td>Life &amp; Entertainment</td>\n",
       "      <td>NaN</td>\n",
       "    </tr>\n",
       "    <tr>\n",
       "      <th>196063</th>\n",
       "      <td>Health &amp; Beauty</td>\n",
       "      <td>NaN</td>\n",
       "    </tr>\n",
       "    <tr>\n",
       "      <th>261425</th>\n",
       "      <td>小老闆的點心餐車 | 扮家家酒 | 廚房 木製玩具 Melissa\\t&amp;\\tDoug</td>\n",
       "      <td>NaN</td>\n",
       "    </tr>\n",
       "    <tr>\n",
       "      <th>274801</th>\n",
       "      <td>一百世後雨刷 118-515 BMW 寶馬 X5 E70 VOLVO XC90 V70 XC...</td>\n",
       "      <td>NaN</td>\n",
       "    </tr>\n",
       "    <tr>\n",
       "      <th>350825</th>\n",
       "      <td>♛</td>\n",
       "      <td>NaN</td>\n",
       "    </tr>\n",
       "    <tr>\n",
       "      <th>416857</th>\n",
       "      <td>Tas roda bagasi ukuran 20\\\",Women Bags\\n106447...</td>\n",
       "      <td>NaN</td>\n",
       "    </tr>\n",
       "    <tr>\n",
       "      <th>419990</th>\n",
       "      <td>Women's Apparel</td>\n",
       "      <td>NaN</td>\n",
       "    </tr>\n",
       "    <tr>\n",
       "      <th>420656</th>\n",
       "      <td>Home &amp; Living</td>\n",
       "      <td>NaN</td>\n",
       "    </tr>\n",
       "    <tr>\n",
       "      <th>458452</th>\n",
       "      <td>12\\熊大腰靠枕</td>\n",
       "      <td>NaN</td>\n",
       "    </tr>\n",
       "    <tr>\n",
       "      <th>484828</th>\n",
       "      <td>Women Accessories</td>\n",
       "      <td>NaN</td>\n",
       "    </tr>\n",
       "    <tr>\n",
       "      <th>490231</th>\n",
       "      <td>NaN</td>\n",
       "      <td>NaN</td>\n",
       "    </tr>\n",
       "  </tbody>\n",
       "</table>\n",
       "</div>"
      ],
      "text/plain": [
       "                                            product_title category\n",
       "28655                                       Mother & Baby      NaN\n",
       "29865                                    Mobile & Gadgets      NaN\n",
       "47035                                         限時下殺【九折】免運~      NaN\n",
       "53880                                   Sports & Outdoors      NaN\n",
       "71553                             ASUS Zenpower 行動電源10050      NaN\n",
       "164636  ●現貨●SUN汽車工具 JTC 3722 3723 3724 套筒 插座 鐵 套筒夾 收納架...      NaN\n",
       "185776                                           《 阿母の手作坊      NaN\n",
       "192286                               Life & Entertainment      NaN\n",
       "196063                                    Health & Beauty      NaN\n",
       "261425         小老闆的點心餐車 | 扮家家酒 | 廚房 木製玩具 Melissa\\t&\\tDoug      NaN\n",
       "274801  一百世後雨刷 118-515 BMW 寶馬 X5 E70 VOLVO XC90 V70 XC...      NaN\n",
       "350825                                                  ♛      NaN\n",
       "416857  Tas roda bagasi ukuran 20\\\",Women Bags\\n106447...      NaN\n",
       "419990                                    Women's Apparel      NaN\n",
       "420656                                      Home & Living      NaN\n",
       "458452                                           12\\熊大腰靠枕      NaN\n",
       "484828                                  Women Accessories      NaN\n",
       "490231                                                NaN      NaN"
      ]
     },
     "execution_count": 28,
     "metadata": {},
     "output_type": "execute_result"
    }
   ],
   "source": [
    "train_tcn_df[train_tcn_df.category.isna()]"
   ]
  },
  {
   "cell_type": "markdown",
   "metadata": {},
   "source": [
    "The translations of the english-chinese text doesn't seem to be in position\n",
    "\n",
    "(I can read both languages very well)"
   ]
  },
  {
   "cell_type": "code",
   "execution_count": 19,
   "metadata": {
    "scrolled": true
   },
   "outputs": [
    {
     "data": {
      "text/html": [
       "<div>\n",
       "<style scoped>\n",
       "    .dataframe tbody tr th:only-of-type {\n",
       "        vertical-align: middle;\n",
       "    }\n",
       "\n",
       "    .dataframe tbody tr th {\n",
       "        vertical-align: top;\n",
       "    }\n",
       "\n",
       "    .dataframe thead th {\n",
       "        text-align: right;\n",
       "    }\n",
       "</style>\n",
       "<table border=\"1\" class=\"dataframe\">\n",
       "  <thead>\n",
       "    <tr style=\"text-align: right;\">\n",
       "      <th></th>\n",
       "      <th>product_title</th>\n",
       "      <th>category</th>\n",
       "    </tr>\n",
       "  </thead>\n",
       "  <tbody>\n",
       "    <tr>\n",
       "      <th>451080</th>\n",
       "      <td>Washi Tapes 15mm - CUT 30\\\",Hobbies &amp; Statione...</td>\n",
       "      <td>Games &amp; Collectibles\"</td>\n",
       "    </tr>\n",
       "    <tr>\n",
       "      <th>248007</th>\n",
       "      <td>FTStar Universal LED/LCD Flat Panel Wall Mount...</td>\n",
       "      <td>Games &amp; Collectibles\"</td>\n",
       "    </tr>\n",
       "    <tr>\n",
       "      <th>26346</th>\n",
       "      <td>Tube Cutter with FREE Hoyoma Japan C Clamp 2\\\"...</td>\n",
       "      <td>Games &amp; Collectibles\"</td>\n",
       "    </tr>\n",
       "    <tr>\n",
       "      <th>89062</th>\n",
       "      <td>Panda Hello Kitty Stuffed Toy 14\\\",Toys</td>\n",
       "      <td>Games &amp; Collectibles\"</td>\n",
       "    </tr>\n",
       "    <tr>\n",
       "      <th>446134</th>\n",
       "      <td>Trrrixii TGI-190005 FS Randel Beads Rosary Bra...</td>\n",
       "      <td>Games &amp; Collectibles\"</td>\n",
       "    </tr>\n",
       "    <tr>\n",
       "      <th>...</th>\n",
       "      <td>...</td>\n",
       "      <td>...</td>\n",
       "    </tr>\n",
       "    <tr>\n",
       "      <th>428140</th>\n",
       "      <td>KOREAN BAG PACK</td>\n",
       "      <td>Women's Bags</td>\n",
       "    </tr>\n",
       "    <tr>\n",
       "      <th>311974</th>\n",
       "      <td>Men Small Sling Bag Anti Theft Chest Bag Shoul...</td>\n",
       "      <td>Women's Bags</td>\n",
       "    </tr>\n",
       "    <tr>\n",
       "      <th>127645</th>\n",
       "      <td>Kimbel Shoulder/Hand Bag</td>\n",
       "      <td>Women's Bags</td>\n",
       "    </tr>\n",
       "    <tr>\n",
       "      <th>127571</th>\n",
       "      <td>Kate Spade Lyla 2-way Bag</td>\n",
       "      <td>Women's Bags</td>\n",
       "    </tr>\n",
       "    <tr>\n",
       "      <th>499999</th>\n",
       "      <td>PRE-LOVED ORIGINAL GREEN FINO BAG</td>\n",
       "      <td>Women's Bags</td>\n",
       "    </tr>\n",
       "  </tbody>\n",
       "</table>\n",
       "<p>500000 rows × 2 columns</p>\n",
       "</div>"
      ],
      "text/plain": [
       "                                            product_title  \\\n",
       "451080  Washi Tapes 15mm - CUT 30\\\",Hobbies & Statione...   \n",
       "248007  FTStar Universal LED/LCD Flat Panel Wall Mount...   \n",
       "26346   Tube Cutter with FREE Hoyoma Japan C Clamp 2\\\"...   \n",
       "89062             Panda Hello Kitty Stuffed Toy 14\\\",Toys   \n",
       "446134  Trrrixii TGI-190005 FS Randel Beads Rosary Bra...   \n",
       "...                                                   ...   \n",
       "428140                                    KOREAN BAG PACK   \n",
       "311974  Men Small Sling Bag Anti Theft Chest Bag Shoul...   \n",
       "127645                           Kimbel Shoulder/Hand Bag   \n",
       "127571                          Kate Spade Lyla 2-way Bag   \n",
       "499999                  PRE-LOVED ORIGINAL GREEN FINO BAG   \n",
       "\n",
       "                      category  \n",
       "451080   Games & Collectibles\"  \n",
       "248007   Games & Collectibles\"  \n",
       "26346    Games & Collectibles\"  \n",
       "89062    Games & Collectibles\"  \n",
       "446134   Games & Collectibles\"  \n",
       "...                        ...  \n",
       "428140            Women's Bags  \n",
       "311974            Women's Bags  \n",
       "127645            Women's Bags  \n",
       "127571            Women's Bags  \n",
       "499999            Women's Bags  \n",
       "\n",
       "[500000 rows x 2 columns]"
      ]
     },
     "execution_count": 19,
     "metadata": {},
     "output_type": "execute_result"
    }
   ],
   "source": [
    "train_en_df.sort_values(\"category\")"
   ]
  },
  {
   "cell_type": "code",
   "execution_count": 20,
   "metadata": {
    "scrolled": true
   },
   "outputs": [
    {
     "data": {
      "text/html": [
       "<div>\n",
       "<style scoped>\n",
       "    .dataframe tbody tr th:only-of-type {\n",
       "        vertical-align: middle;\n",
       "    }\n",
       "\n",
       "    .dataframe tbody tr th {\n",
       "        vertical-align: top;\n",
       "    }\n",
       "\n",
       "    .dataframe thead th {\n",
       "        text-align: right;\n",
       "    }\n",
       "</style>\n",
       "<table border=\"1\" class=\"dataframe\">\n",
       "  <thead>\n",
       "    <tr style=\"text-align: right;\">\n",
       "      <th></th>\n",
       "      <th>product_title</th>\n",
       "      <th>category</th>\n",
       "    </tr>\n",
       "  </thead>\n",
       "  <tbody>\n",
       "    <tr>\n",
       "      <th>318685</th>\n",
       "      <td>舊痕新夢_莉莉戴頓【書寶二手書T3／言情小說_MAS】</td>\n",
       "      <td>Books</td>\n",
       "    </tr>\n",
       "    <tr>\n",
       "      <th>13172</th>\n",
       "      <td>餐旅會計學實務</td>\n",
       "      <td>Books</td>\n",
       "    </tr>\n",
       "    <tr>\n",
       "      <th>259220</th>\n",
       "      <td>閱讀兒童文學樂趣(二手)</td>\n",
       "      <td>Books</td>\n",
       "    </tr>\n",
       "    <tr>\n",
       "      <th>259214</th>\n",
       "      <td>刑法（高普考、三等特考、四等特考、警察特考）</td>\n",
       "      <td>Books</td>\n",
       "    </tr>\n",
       "    <tr>\n",
       "      <th>166711</th>\n",
       "      <td>當時上帝是一隻兔子 紙星星 來自天堂的雨 全新無折痕！</td>\n",
       "      <td>Books</td>\n",
       "    </tr>\n",
       "    <tr>\n",
       "      <th>...</th>\n",
       "      <td>...</td>\n",
       "      <td>...</td>\n",
       "    </tr>\n",
       "    <tr>\n",
       "      <th>419990</th>\n",
       "      <td>Women's Apparel</td>\n",
       "      <td>NaN</td>\n",
       "    </tr>\n",
       "    <tr>\n",
       "      <th>420656</th>\n",
       "      <td>Home &amp; Living</td>\n",
       "      <td>NaN</td>\n",
       "    </tr>\n",
       "    <tr>\n",
       "      <th>458452</th>\n",
       "      <td>12\\熊大腰靠枕</td>\n",
       "      <td>NaN</td>\n",
       "    </tr>\n",
       "    <tr>\n",
       "      <th>484828</th>\n",
       "      <td>Women Accessories</td>\n",
       "      <td>NaN</td>\n",
       "    </tr>\n",
       "    <tr>\n",
       "      <th>490231</th>\n",
       "      <td>NaN</td>\n",
       "      <td>NaN</td>\n",
       "    </tr>\n",
       "  </tbody>\n",
       "</table>\n",
       "<p>500000 rows × 2 columns</p>\n",
       "</div>"
      ],
      "text/plain": [
       "                      product_title category\n",
       "318685  舊痕新夢_莉莉戴頓【書寶二手書T3／言情小說_MAS】    Books\n",
       "13172                       餐旅會計學實務    Books\n",
       "259220                 閱讀兒童文學樂趣(二手)    Books\n",
       "259214       刑法（高普考、三等特考、四等特考、警察特考）    Books\n",
       "166711  當時上帝是一隻兔子 紙星星 來自天堂的雨 全新無折痕！    Books\n",
       "...                             ...      ...\n",
       "419990              Women's Apparel      NaN\n",
       "420656                Home & Living      NaN\n",
       "458452                     12\\熊大腰靠枕      NaN\n",
       "484828            Women Accessories      NaN\n",
       "490231                          NaN      NaN\n",
       "\n",
       "[500000 rows x 2 columns]"
      ]
     },
     "execution_count": 20,
     "metadata": {},
     "output_type": "execute_result"
    }
   ],
   "source": [
    "train_tcn_df.sort_values(\"category\")"
   ]
  },
  {
   "cell_type": "code",
   "execution_count": 18,
   "metadata": {
    "scrolled": true
   },
   "outputs": [
    {
     "data": {
      "text/html": [
       "<div>\n",
       "<style scoped>\n",
       "    .dataframe tbody tr th:only-of-type {\n",
       "        vertical-align: middle;\n",
       "    }\n",
       "\n",
       "    .dataframe tbody tr th {\n",
       "        vertical-align: top;\n",
       "    }\n",
       "\n",
       "    .dataframe thead th {\n",
       "        text-align: right;\n",
       "    }\n",
       "</style>\n",
       "<table border=\"1\" class=\"dataframe\">\n",
       "  <thead>\n",
       "    <tr style=\"text-align: right;\">\n",
       "      <th></th>\n",
       "      <th>product_title</th>\n",
       "      <th>category</th>\n",
       "    </tr>\n",
       "  </thead>\n",
       "  <tbody>\n",
       "    <tr>\n",
       "      <th>363</th>\n",
       "      <td>✿✿歐美誇張項鍊亞克力灰珍珠多層花朵吊墜鎖骨鏈女民族風裝飾品配飾</td>\n",
       "      <td>Babies &amp; Kids</td>\n",
       "    </tr>\n",
       "    <tr>\n",
       "      <th>54</th>\n",
       "      <td>T卹短袖O領T卹gamatoosu徽標</td>\n",
       "      <td>Babies &amp; Kids</td>\n",
       "    </tr>\n",
       "    <tr>\n",
       "      <th>240</th>\n",
       "      <td>2018 日係原宿港風休閒BF風瘋兔子情侶款棉短袖噸卹潮男女三通簡約風尚青年學生必備</td>\n",
       "      <td>Babies &amp; Kids</td>\n",
       "    </tr>\n",
       "    <tr>\n",
       "      <th>382</th>\n",
       "      <td>【品質保證】歐美時尚正韓百搭Zara款顯瘦2019孕婦裝韓版時尚彩色條紋黑白虎圖案中長款</td>\n",
       "      <td>Babies &amp; Kids</td>\n",
       "    </tr>\n",
       "    <tr>\n",
       "      <th>290</th>\n",
       "      <td>Airpods1 / Airpods2 保護套蘋果無線藍牙蠟筆小新保護軟殼耳機保護套可愛卡通</td>\n",
       "      <td>Babies &amp; Kids</td>\n",
       "    </tr>\n",
       "    <tr>\n",
       "      <th>...</th>\n",
       "      <td>...</td>\n",
       "      <td>...</td>\n",
       "    </tr>\n",
       "    <tr>\n",
       "      <th>243</th>\n",
       "      <td>西裝褲休閒褲男生褲子時尚港風ins潮流寬鬆百搭休閒條紋薄款九分褲學生修身小腳直筒西裝褲男生衣著</td>\n",
       "      <td>Women's Bags</td>\n",
       "    </tr>\n",
       "    <tr>\n",
       "      <th>421</th>\n",
       "      <td>newnew 軟胸罩無縫性感前扣文胸推高內衣胸罩光面文胸簡約舒適前扣無痕交叉美背文胸單件(不...</td>\n",
       "      <td>Women's Bags</td>\n",
       "    </tr>\n",
       "    <tr>\n",
       "      <th>218</th>\n",
       "      <td>歐美潮鞋運動鞋休閒男鞋透氣網格網面繫帶PU 網球鞋跑步鞋慢跑鞋增高百搭舒適</td>\n",
       "      <td>Women's Bags</td>\n",
       "    </tr>\n",
       "    <tr>\n",
       "      <th>323</th>\n",
       "      <td>寵物保護頸圈脖圍頭套術后防舔咬卡通印花伊莉莎白寵物頭套防咬防抓</td>\n",
       "      <td>Women's Bags</td>\n",
       "    </tr>\n",
       "    <tr>\n",
       "      <th>249</th>\n",
       "      <td>【SUILIU❤全網最低】冬季百搭寬鬆套頭帽t韓版小閃電印花情侶裝上衣ins學生創意英文印花...</td>\n",
       "      <td>Women's Bags</td>\n",
       "    </tr>\n",
       "  </tbody>\n",
       "</table>\n",
       "<p>500 rows × 2 columns</p>\n",
       "</div>"
      ],
      "text/plain": [
       "                                         product_title       category\n",
       "363                   ✿✿歐美誇張項鍊亞克力灰珍珠多層花朵吊墜鎖骨鏈女民族風裝飾品配飾  Babies & Kids\n",
       "54                                 T卹短袖O領T卹gamatoosu徽標  Babies & Kids\n",
       "240         2018 日係原宿港風休閒BF風瘋兔子情侶款棉短袖噸卹潮男女三通簡約風尚青年學生必備  Babies & Kids\n",
       "382       【品質保證】歐美時尚正韓百搭Zara款顯瘦2019孕婦裝韓版時尚彩色條紋黑白虎圖案中長款  Babies & Kids\n",
       "290     Airpods1 / Airpods2 保護套蘋果無線藍牙蠟筆小新保護軟殼耳機保護套可愛卡通  Babies & Kids\n",
       "..                                                 ...            ...\n",
       "243    西裝褲休閒褲男生褲子時尚港風ins潮流寬鬆百搭休閒條紋薄款九分褲學生修身小腳直筒西裝褲男生衣著   Women's Bags\n",
       "421  newnew 軟胸罩無縫性感前扣文胸推高內衣胸罩光面文胸簡約舒適前扣無痕交叉美背文胸單件(不...   Women's Bags\n",
       "218              歐美潮鞋運動鞋休閒男鞋透氣網格網面繫帶PU 網球鞋跑步鞋慢跑鞋增高百搭舒適   Women's Bags\n",
       "323                    寵物保護頸圈脖圍頭套術后防舔咬卡通印花伊莉莎白寵物頭套防咬防抓   Women's Bags\n",
       "249  【SUILIU❤全網最低】冬季百搭寬鬆套頭帽t韓版小閃電印花情侶裝上衣ins學生創意英文印花...   Women's Bags\n",
       "\n",
       "[500 rows x 2 columns]"
      ]
     },
     "execution_count": 18,
     "metadata": {},
     "output_type": "execute_result"
    }
   ],
   "source": [
    "test_df.sort_values(\"category\")"
   ]
  },
  {
   "cell_type": "markdown",
   "metadata": {},
   "source": [
    "# NLP"
   ]
  },
  {
   "cell_type": "code",
   "execution_count": 1,
   "metadata": {},
   "outputs": [],
   "source": [
    "from transformers import pipeline"
   ]
  },
  {
   "cell_type": "code",
   "execution_count": 5,
   "metadata": {},
   "outputs": [
    {
     "data": {
      "application/vnd.jupyter.widget-view+json": {
       "model_id": "c362aaf0b2284007b2a10667384040e1",
       "version_major": 2,
       "version_minor": 0
      },
      "text/plain": [
       "HBox(children=(FloatProgress(value=0.0, description='Downloading', max=629.0, style=ProgressStyle(description_…"
      ]
     },
     "metadata": {},
     "output_type": "display_data"
    },
    {
     "name": "stdout",
     "output_type": "stream",
     "text": [
      "\n"
     ]
    },
    {
     "data": {
      "application/vnd.jupyter.widget-view+json": {
       "model_id": "75d6938d18f64b9d8c89bb04b2e0aebd",
       "version_major": 2,
       "version_minor": 0
      },
      "text/plain": [
       "HBox(children=(FloatProgress(value=0.0, description='Downloading', max=231508.0, style=ProgressStyle(descripti…"
      ]
     },
     "metadata": {},
     "output_type": "display_data"
    },
    {
     "name": "stdout",
     "output_type": "stream",
     "text": [
      "\n"
     ]
    },
    {
     "data": {
      "application/vnd.jupyter.widget-view+json": {
       "model_id": "709b96cdb61947cb9e2ce0371b0c2f1e",
       "version_major": 2,
       "version_minor": 0
      },
      "text/plain": [
       "HBox(children=(FloatProgress(value=0.0, description='Downloading', max=230.0, style=ProgressStyle(description_…"
      ]
     },
     "metadata": {},
     "output_type": "display_data"
    },
    {
     "name": "stdout",
     "output_type": "stream",
     "text": [
      "\n"
     ]
    },
    {
     "data": {
      "application/vnd.jupyter.widget-view+json": {
       "model_id": "f131afad6c1d4684bd35be3f4c9a0699",
       "version_major": 2,
       "version_minor": 0
      },
      "text/plain": [
       "HBox(children=(FloatProgress(value=0.0, description='Downloading', max=267844284.0, style=ProgressStyle(descri…"
      ]
     },
     "metadata": {},
     "output_type": "display_data"
    },
    {
     "name": "stdout",
     "output_type": "stream",
     "text": [
      "\n"
     ]
    }
   ],
   "source": [
    "translator = pipeline('sentiment-analysis')"
   ]
  },
  {
   "cell_type": "code",
   "execution_count": 24,
   "metadata": {},
   "outputs": [
    {
     "data": {
      "text/plain": [
       "[{'label': 'POSITIVE', 'score': 0.9960689544677734}]"
      ]
     },
     "execution_count": 24,
     "metadata": {},
     "output_type": "execute_result"
    }
   ],
   "source": [
    "translator(train_en_df.loc[5, \"product_title\"])"
   ]
  },
  {
   "cell_type": "code",
   "execution_count": 25,
   "metadata": {},
   "outputs": [
    {
     "data": {
      "text/plain": [
       "'Korean Set'"
      ]
     },
     "execution_count": 25,
     "metadata": {},
     "output_type": "execute_result"
    }
   ],
   "source": [
    "train_en_df.loc[5, \"product_title\"]"
   ]
  },
  {
   "cell_type": "code",
   "execution_count": 40,
   "metadata": {},
   "outputs": [
    {
     "name": "stdout",
     "output_type": "stream",
     "text": [
      "（二手）PS4 GTA 5 俠盜獵車手5 Grand Theif Auto V繁體 中文版\n",
      "Translated(src=zh-CN, dest=en, text=(Second-hand) PS4 GTA5 Grand Theft Auto 5 Grand Theft Auto V Traditional Chinese Version, pronunciation=None, extra_data=\"{'translat...\")\n"
     ]
    }
   ],
   "source": [
    "from googletrans import Translator\n",
    "translator = Translator()\n",
    "\n",
    "print(train_tcn_df.loc[1, \"product_title\"])\n",
    "print(translator.translate(train_tcn_df.loc[1, \"product_title\"]))"
   ]
  },
  {
   "cell_type": "code",
   "execution_count": null,
   "metadata": {},
   "outputs": [],
   "source": []
  }
 ],
 "metadata": {
  "kernelspec": {
   "display_name": "Python 3",
   "language": "python",
   "name": "python3"
  },
  "language_info": {
   "codemirror_mode": {
    "name": "ipython",
    "version": 3
   },
   "file_extension": ".py",
   "mimetype": "text/x-python",
   "name": "python",
   "nbconvert_exporter": "python",
   "pygments_lexer": "ipython3",
   "version": "3.7.7"
  }
 },
 "nbformat": 4,
 "nbformat_minor": 4
}
