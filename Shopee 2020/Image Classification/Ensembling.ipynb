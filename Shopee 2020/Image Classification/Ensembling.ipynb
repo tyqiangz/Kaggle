{
 "cells": [
  {
   "cell_type": "markdown",
   "metadata": {
    "colab_type": "text",
    "id": "SXTERSrM9eVG"
   },
   "source": [
    "# Shopee Image Classification Competiiton\n",
    "\n",
    "Ensemble some predictions"
   ]
  },
  {
   "cell_type": "code",
   "execution_count": 8,
   "metadata": {},
   "outputs": [],
   "source": [
    "import csv\n",
    "import pandas as pd\n",
    "import random"
   ]
  },
  {
   "cell_type": "code",
   "execution_count": 3,
   "metadata": {},
   "outputs": [],
   "source": [
    "pred_df1 = pd.read_csv(r'C:\\Users\\Tay\\Downloads\\Kaggle\\Shopee 2020\\Image Classification\\Shopee_Image_EfficientNetB4_submission.csv')\n",
    "pred_df2 = pd.read_csv(r'C:\\Users\\Tay\\Downloads\\Kaggle\\Shopee 2020\\Image Classification\\sub_with_tta.csv')\n",
    "pred_df3 = pd.read_csv(r'C:\\Users\\Tay\\Downloads\\Kaggle\\Shopee 2020\\Image Classification\\submission_EfficientNet_B7_EPOCHS_60.csv')\n",
    "pred_df4 = pd.read_csv(r'C:\\Users\\Tay\\Downloads\\Kaggle\\Shopee 2020\\Image Classification\\submission_EfficientNet_B7.csv')"
   ]
  },
  {
   "cell_type": "code",
   "execution_count": 4,
   "metadata": {},
   "outputs": [],
   "source": [
    "pred_df = pd.DataFrame()\n",
    "pred_df['filename'] = pred_df1['filename']"
   ]
  },
  {
   "cell_type": "code",
   "execution_count": 20,
   "metadata": {},
   "outputs": [],
   "source": [
    "pred_df['category'] = ''\n",
    "\n",
    "for i in range(pred_df.shape[0]):\n",
    "    category_dict = {}\n",
    "    if (pred_df1.loc[i, 'category'] in category_dict):\n",
    "        category_dict[pred_df1.loc[i, 'category']] += 1\n",
    "    else:\n",
    "        category_dict[pred_df1.loc[i, 'category']] = 1\n",
    "        \n",
    "    if (pred_df2.loc[i, 'category'] in category_dict):\n",
    "        category_dict[pred_df2.loc[i, 'category']] += 1\n",
    "    else:\n",
    "        category_dict[pred_df2.loc[i, 'category']] = 1\n",
    "        \n",
    "    if (pred_df3.loc[i, 'category'] in category_dict):\n",
    "        category_dict[pred_df3.loc[i, 'category']] += 1\n",
    "    else:\n",
    "        category_dict[pred_df3.loc[i, 'category']] = 1\n",
    "        \n",
    "    if (pred_df4.loc[i, 'category'] in category_dict):\n",
    "        category_dict[pred_df4.loc[i, 'category']] += 1\n",
    "    else:\n",
    "        category_dict[pred_df4.loc[i, 'category']] = 1\n",
    "    \n",
    "    pred_df.loc[i, 'category'] = random.choices(list(category_dict.keys()), list(category_dict.values()))[0]\n",
    "    \n",
    "    if (pred_df.loc[i, 'category'] // 10 == 0):\n",
    "        pred_df.loc[i, 'category'] = '0' + str(pred_df.loc[i, 'category'])\n",
    "    else:\n",
    "        pred_df.loc[i, 'category'] = str(pred_df.loc[i, 'category'])"
   ]
  },
  {
   "cell_type": "code",
   "execution_count": 21,
   "metadata": {},
   "outputs": [],
   "source": [
    "pred_df.to_csv('ensembled_4.csv', index=False)"
   ]
  },
  {
   "cell_type": "code",
   "execution_count": 17,
   "metadata": {},
   "outputs": [
    {
     "data": {
      "text/plain": [
       "[1, 3]"
      ]
     },
     "execution_count": 17,
     "metadata": {},
     "output_type": "execute_result"
    }
   ],
   "source": [
    "list(category_dict.values())"
   ]
  }
 ],
 "metadata": {
  "accelerator": "GPU",
  "colab": {
   "collapsed_sections": [],
   "name": "Shopee_Image_Classification.ipynb",
   "provenance": [],
   "toc_visible": true
  },
  "kernelspec": {
   "display_name": "Python 3",
   "language": "python",
   "name": "python3"
  },
  "language_info": {
   "codemirror_mode": {
    "name": "ipython",
    "version": 3
   },
   "file_extension": ".py",
   "mimetype": "text/x-python",
   "name": "python",
   "nbconvert_exporter": "python",
   "pygments_lexer": "ipython3",
   "version": "3.7.1"
  }
 },
 "nbformat": 4,
 "nbformat_minor": 4
}
