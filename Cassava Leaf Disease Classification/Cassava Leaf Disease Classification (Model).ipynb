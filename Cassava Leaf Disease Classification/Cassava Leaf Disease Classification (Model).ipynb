{
 "cells": [
  {
   "cell_type": "markdown",
   "metadata": {},
   "source": [
    "# Cassava Leaf Disease Classification (Model)"
   ]
  },
  {
   "cell_type": "markdown",
   "metadata": {},
   "source": [
    "**Things I've tried**\n",
    "\n",
    "- Image size (160,160,3) with EfficientNetB4, learning rate 0.001 accuracy got stuck in local minimum of 0.6148.\n",
    "- Image size (512,512,3) with EfficientNetB4, learning rate 0.001 accuracy got stuck in local minimum of 0.6148.\n",
    "- Image size (512,512,3) with EfficientNetB4, learning rate 0.0002 accuracy got stuck in local minimum of 0.6137.\n",
    "- Image size (512,512,3) with EfficientNetB4, learning rate 0.0002, label smoothing 0.1, accuracy got stuck in local minimum of 0.6137."
   ]
  },
  {
   "cell_type": "code",
   "execution_count": 88,
   "metadata": {},
   "outputs": [],
   "source": [
    "import json\n",
    "import os\n",
    "\n",
    "import numpy as np\n",
    "import pandas as pd\n",
    "import tensorflow as tf\n",
    "import matplotlib.pyplot as plt\n",
    "\n",
    "from sklearn.model_selection import train_test_split\n",
    "\n",
    "from tensorflow.keras.layers import Dense, Input, GlobalAveragePooling2D, Dropout\n",
    "from tensorflow.keras.models import Model, Sequential\n",
    "from tensorflow.keras.optimizers import Adam\n",
    "# learning rate decay scheduler\n",
    "from tensorflow.keras.experimental import CosineDecay\n",
    "\n",
    "from tensorflow.keras.applications import efficientnet"
   ]
  },
  {
   "cell_type": "code",
   "execution_count": 4,
   "metadata": {},
   "outputs": [
    {
     "data": {
      "text/plain": [
       "'2.5.0-dev20201213'"
      ]
     },
     "execution_count": 4,
     "metadata": {},
     "output_type": "execute_result"
    }
   ],
   "source": [
    "tf.__version__"
   ]
  },
  {
   "cell_type": "code",
   "execution_count": 92,
   "metadata": {},
   "outputs": [
    {
     "name": "stdout",
     "output_type": "stream",
     "text": [
      "{'IMG_SIZE': (512, 512), 'INPUT_SHAPE': (512, 512, 3), 'EPOCHS': 8, 'BATCH_SIZE': 32, 'DROPOUT_RATE': 0.4, 'INIT_LEARNING_RATE': 0.0001, 'ALPHA': 0.3}\n"
     ]
    }
   ],
   "source": [
    "#TPU Configurations\n",
    "AUTO = tf.data.experimental.AUTOTUNE\n",
    "\n",
    "# other configurations\n",
    "class configurations():\n",
    "    def __init__(self, IMG_SIZE, EPOCHS, BATCH_SIZE, DROPOUT_RATE, INIT_LEARNING_RATE, ALPHA):\n",
    "        '''\n",
    "        :param IMG_SIZE: a tuple of length 2 that defines the height and width of the image\n",
    "        :param EPOCHS: no. of epochs to train the neural network\n",
    "        :param BATCH_SIZE: size of a batch of images\n",
    "        :param DROPOUT_RATE: the ratio of nodes to remove randomly during training\n",
    "        :param INIT_LEARNING_RATE: initial learning rate for gradient descent\n",
    "        :param ALPHA: parameter required for CosineDecay learning rate scheduler\n",
    "        '''\n",
    "        self.IMG_SIZE = IMG_SIZE\n",
    "        self.INPUT_SHAPE = IMG_SIZE + (3,)\n",
    "        self.EPOCHS = EPOCHS\n",
    "        self.BATCH_SIZE = BATCH_SIZE\n",
    "        self.DROPOUT_RATE = DROPOUT_RATE\n",
    "        self.INIT_LEARNING_RATE = INIT_LEARNING_RATE\n",
    "        self.ALPHA = ALPHA\n",
    "        \n",
    "    def __str__(self):\n",
    "        return str(self.__dict__)\n",
    "        \n",
    "config = configurations(IMG_SIZE = (512,512),\n",
    "                        EPOCHS=8,\n",
    "                        BATCH_SIZE = 32,\n",
    "                        DROPOUT_RATE = 0.4,\n",
    "                        INIT_LEARNING_RATE = 1e-4,\n",
    "                        ALPHA=0.3)\n",
    "\n",
    "print(config)"
   ]
  },
  {
   "cell_type": "code",
   "execution_count": 8,
   "metadata": {},
   "outputs": [],
   "source": [
    "# BASE_DIR = \"/kaggle/input/cassava-leaf-disease-classification/\"\n",
    "BASE_DIR = \"./\""
   ]
  },
  {
   "cell_type": "code",
   "execution_count": 11,
   "metadata": {},
   "outputs": [
    {
     "data": {
      "text/plain": [
       "{0: 'Cassava Bacterial Blight (CBB)',\n",
       " 1: 'Cassava Brown Streak Disease (CBSD)',\n",
       " 2: 'Cassava Green Mottle (CGM)',\n",
       " 3: 'Cassava Mosaic Disease (CMD)',\n",
       " 4: 'Healthy'}"
      ]
     },
     "execution_count": 11,
     "metadata": {},
     "output_type": "execute_result"
    }
   ],
   "source": [
    "with open(os.path.join(BASE_DIR, \"label_num_to_disease_map.json\")) as file:\n",
    "    map_classes = json.loads(file.read())\n",
    "    map_classes = {int(k) : v for k, v in map_classes.items()}\n",
    "    \n",
    "map_classes"
   ]
  },
  {
   "cell_type": "code",
   "execution_count": 13,
   "metadata": {},
   "outputs": [
    {
     "name": "stdout",
     "output_type": "stream",
     "text": [
      "(21397, 2)\n",
      "--------------------------------------------------\n"
     ]
    },
    {
     "data": {
      "text/html": [
       "<div>\n",
       "<style scoped>\n",
       "    .dataframe tbody tr th:only-of-type {\n",
       "        vertical-align: middle;\n",
       "    }\n",
       "\n",
       "    .dataframe tbody tr th {\n",
       "        vertical-align: top;\n",
       "    }\n",
       "\n",
       "    .dataframe thead th {\n",
       "        text-align: right;\n",
       "    }\n",
       "</style>\n",
       "<table border=\"1\" class=\"dataframe\">\n",
       "  <thead>\n",
       "    <tr style=\"text-align: right;\">\n",
       "      <th></th>\n",
       "      <th>image_id</th>\n",
       "      <th>label</th>\n",
       "    </tr>\n",
       "  </thead>\n",
       "  <tbody>\n",
       "    <tr>\n",
       "      <th>0</th>\n",
       "      <td>1000015157.jpg</td>\n",
       "      <td>0</td>\n",
       "    </tr>\n",
       "    <tr>\n",
       "      <th>1</th>\n",
       "      <td>1000201771.jpg</td>\n",
       "      <td>3</td>\n",
       "    </tr>\n",
       "    <tr>\n",
       "      <th>2</th>\n",
       "      <td>100042118.jpg</td>\n",
       "      <td>1</td>\n",
       "    </tr>\n",
       "    <tr>\n",
       "      <th>3</th>\n",
       "      <td>1000723321.jpg</td>\n",
       "      <td>1</td>\n",
       "    </tr>\n",
       "    <tr>\n",
       "      <th>4</th>\n",
       "      <td>1000812911.jpg</td>\n",
       "      <td>3</td>\n",
       "    </tr>\n",
       "  </tbody>\n",
       "</table>\n",
       "</div>"
      ],
      "text/plain": [
       "         image_id  label\n",
       "0  1000015157.jpg      0\n",
       "1  1000201771.jpg      3\n",
       "2   100042118.jpg      1\n",
       "3  1000723321.jpg      1\n",
       "4  1000812911.jpg      3"
      ]
     },
     "execution_count": 13,
     "metadata": {},
     "output_type": "execute_result"
    }
   ],
   "source": [
    "image_file_to_label_df = pd.read_csv(os.path.join(BASE_DIR, \"train.csv\"))\n",
    "\n",
    "print(image_file_to_label_df.shape)\n",
    "print(\"-\"*50)\n",
    "image_file_to_label_df.head()"
   ]
  },
  {
   "cell_type": "code",
   "execution_count": 19,
   "metadata": {},
   "outputs": [],
   "source": [
    "# split into train test sets\n",
    "X_train, X_val, y_train, y_val = train_test_split(list(image_file_to_label_df.image_id),\n",
    "                                                  list(image_file_to_label_df.label),\n",
    "                                                  test_size=0.2)"
   ]
  },
  {
   "cell_type": "code",
   "execution_count": 20,
   "metadata": {},
   "outputs": [],
   "source": [
    "# appending the base directory to all images' filename\n",
    "X_train = [os.path.join(os.path.join(BASE_DIR, \"train_images\"), filename) for filename in X_train]\n",
    "X_val = [os.path.join(os.path.join(BASE_DIR, \"train_images\"), filename) for filename in X_val]"
   ]
  },
  {
   "cell_type": "code",
   "execution_count": 21,
   "metadata": {},
   "outputs": [
    {
     "data": {
      "text/plain": [
       "((17117, 17117), (4280, 4280))"
      ]
     },
     "execution_count": 21,
     "metadata": {},
     "output_type": "execute_result"
    }
   ],
   "source": [
    "# no. of training and validation examples\n",
    "(len(X_train), len(y_train)), (len(X_val), len(y_val))"
   ]
  },
  {
   "cell_type": "code",
   "execution_count": 22,
   "metadata": {},
   "outputs": [],
   "source": [
    "# turn the labels to categorical\n",
    "y_train = tf.one_hot(indices=y_train, depth=5)\n",
    "y_val = tf.one_hot(indices=y_val, depth=5)"
   ]
  },
  {
   "cell_type": "code",
   "execution_count": 79,
   "metadata": {},
   "outputs": [],
   "source": [
    "def parse_function(filename, label, image_size):\n",
    "    '''\n",
    "    Processes the image stored at `filename`. Decode and convert the image to float type, resize it.\n",
    "    \n",
    "    :param filename: filepath to the image\n",
    "    :param label: the label of the image, should be a one-hot vector of length 5\n",
    "    :param image_size: the desired image size, should be an iterable with 2 elements\n",
    "    :return resized_image: resized version of the image from the `filename`\n",
    "    :return label: label of the image\n",
    "    '''\n",
    "    image_string = tf.io.read_file(filename)\n",
    "\n",
    "    #Don't use tf.image.decode_image, or the output shape will be undefined\n",
    "    image = tf.image.decode_jpeg(image_string, channels=3)\n",
    "\n",
    "    #This will convert to float values in [0, 1]\n",
    "    image = tf.image.convert_image_dtype(image, tf.float32)\n",
    "\n",
    "    resized_image = tf.image.resize(image, image_size)\n",
    "    \n",
    "    return resized_image, label\n",
    "\n",
    "def data_augmentation(image, label):\n",
    "    '''\n",
    "    Data augmentation an image for training\n",
    "    \n",
    "    :param image: an image, should be an output from parse_function(...)\n",
    "    :param label: the label of image\n",
    "    '''\n",
    "    \n",
    "    # flips the image laterally at random\n",
    "    image = tf.image.random_flip_left_right(image)\n",
    "    \n",
    "    # randomly adjusts the brightness of the image\n",
    "    image = tf.image.random_brightness(image, max_delta=32.0 / 255.0)\n",
    "    \n",
    "    # randomly adjusts the saturation of the image\n",
    "    image = tf.image.random_saturation(image, lower=0.5, upper=1.5)\n",
    "\n",
    "    #Make sure all the elements in the image is still in [0, 1]\n",
    "    image = tf.clip_by_value(image, 0.0, 1.0)\n",
    "\n",
    "    return image, label"
   ]
  },
  {
   "cell_type": "code",
   "execution_count": 25,
   "metadata": {},
   "outputs": [],
   "source": [
    "# process dataset for training\n",
    "train_dataset = tf.data.Dataset.from_tensor_slices((X_train, y_train))\n",
    "train_dataset = train_dataset.shuffle(len(X_train))\n",
    "train_dataset = train_dataset.map(parse_function, num_parallel_calls=4)\n",
    "train_dataset = train_dataset.map(data_augmentation, num_parallel_calls=4)\n",
    "train_dataset = train_dataset.batch(BATCH_SIZE)\n",
    "train_dataset = train_dataset.prefetch(1)"
   ]
  },
  {
   "cell_type": "code",
   "execution_count": 26,
   "metadata": {},
   "outputs": [],
   "source": [
    "# process dataset for validation\n",
    "val_dataset = tf.data.Dataset.from_tensor_slices((X_val, y_val))\n",
    "val_dataset = val_dataset.shuffle(len(X_val))\n",
    "val_dataset = val_dataset.map(parse_function, num_parallel_calls=4)\n",
    "val_dataset = val_dataset.batch(BATCH_SIZE)\n",
    "val_dataset = val_dataset.prefetch(1)"
   ]
  },
  {
   "cell_type": "code",
   "execution_count": 28,
   "metadata": {},
   "outputs": [],
   "source": [
    "# weight_filepath = '../input/tfkerasefficientnetimagenetnotop/efficientnetb4_notop.h5'\n",
    "weight_filepath = '../Model weights/efficient_net/efficientnetb4_notop.h5'\n",
    "\n",
    "base_model = efficientnet.EfficientNetB4(weights=weight_filepath, \n",
    "                                         include_top=False,\n",
    "                                         input_shape=config.INPUT_SHAPE)"
   ]
  },
  {
   "cell_type": "code",
   "execution_count": 84,
   "metadata": {},
   "outputs": [],
   "source": [
    "model = Sequential(name=\"cassava-leaf-disease-net\")\n",
    "model.add(base_model)\n",
    "model.add(GlobalAveragePooling2D())\n",
    "model.add(Dropout(rate=0.2))\n",
    "model.add(Dense(5, activation=\"softmax\"))\n",
    "\n",
    "base_model.trainable = False"
   ]
  },
  {
   "cell_type": "code",
   "execution_count": 85,
   "metadata": {},
   "outputs": [
    {
     "name": "stdout",
     "output_type": "stream",
     "text": [
      "Model: \"cassava-leaf-disease-net\"\n",
      "_________________________________________________________________\n",
      "Layer (type)                 Output Shape              Param #   \n",
      "=================================================================\n",
      "efficientnetb4 (Functional)  (None, 16, 16, 1792)      17673823  \n",
      "_________________________________________________________________\n",
      "global_average_pooling2d_10  (None, 1792)              0         \n",
      "_________________________________________________________________\n",
      "dropout_10 (Dropout)         (None, 1792)              0         \n",
      "_________________________________________________________________\n",
      "dense_10 (Dense)             (None, 5)                 8965      \n",
      "=================================================================\n",
      "Total params: 17,682,788\n",
      "Trainable params: 8,965\n",
      "Non-trainable params: 17,673,823\n",
      "_________________________________________________________________\n"
     ]
    }
   ],
   "source": [
    "model.summary()"
   ]
  },
  {
   "cell_type": "code",
   "execution_count": 31,
   "metadata": {},
   "outputs": [],
   "source": [
    "def label_smoothing(y_true,y_pred):\n",
    "     return tf.keras.losses.categorical_crossentropy(y_true,y_pred,label_smoothing=0.1)"
   ]
  },
  {
   "cell_type": "code",
   "execution_count": 93,
   "metadata": {},
   "outputs": [],
   "source": [
    "DECAY_STEPS = int(round(len(X_train)/config.BATCH_SIZE))*config.EPOCHS\n",
    "cosine_decay = CosineDecay(initial_learning_rate=config.INIT_LEARNING_RATE, decay_steps=DECAY_STEPS, alpha=config.ALPHA)"
   ]
  },
  {
   "cell_type": "code",
   "execution_count": 32,
   "metadata": {},
   "outputs": [],
   "source": [
    "# compile the model\n",
    "model.compile(optimizer = Adam(cosine_decay),\n",
    "              loss = label_smoothing,\n",
    "              metrics = ['accuracy'])"
   ]
  },
  {
   "cell_type": "markdown",
   "metadata": {},
   "source": [
    "The below will take very long to run, run with caution."
   ]
  },
  {
   "cell_type": "code",
   "execution_count": null,
   "metadata": {},
   "outputs": [],
   "source": [
    "history = model.fit(train_dataset,\n",
    "                    epochs=20,\n",
    "                    verbose=1,\n",
    "                    validation_data=val_dataset\n",
    "                   )"
   ]
  },
  {
   "cell_type": "code",
   "execution_count": 40,
   "metadata": {},
   "outputs": [
    {
     "data": {
      "text/plain": [
       "[(1, 100), (2, 200), (3, 300), (4, 400), (5, 500)]"
      ]
     },
     "execution_count": 40,
     "metadata": {},
     "output_type": "execute_result"
    }
   ],
   "source": [
    "dataset = tf.data.Dataset.range(1, 6)  # ==> [ 1, 2, 3, 4, 5 ]\n",
    "\n",
    "def random_func(x):\n",
    "    return [x, x*100]\n",
    "\n",
    "dataset = dataset.map(random_func)\n",
    "list(dataset.as_numpy_iterator())"
   ]
  }
 ],
 "metadata": {
  "kernelspec": {
   "display_name": "Python 3",
   "language": "python",
   "name": "python3"
  },
  "language_info": {
   "codemirror_mode": {
    "name": "ipython",
    "version": 3
   },
   "file_extension": ".py",
   "mimetype": "text/x-python",
   "name": "python",
   "nbconvert_exporter": "python",
   "pygments_lexer": "ipython3",
   "version": "3.7.1"
  }
 },
 "nbformat": 4,
 "nbformat_minor": 2
}
