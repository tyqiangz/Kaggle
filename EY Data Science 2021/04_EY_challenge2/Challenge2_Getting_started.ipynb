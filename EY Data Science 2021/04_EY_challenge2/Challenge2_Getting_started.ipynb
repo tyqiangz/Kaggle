{
 "cells": [
  {
   "cell_type": "markdown",
   "metadata": {},
   "source": [
    "# Challenge 2 - Getting started <img align=\"right\" src=\"../Supplementary_data/EY_logo.png\" style=\"margin:0px 50px\">\n",
    "\n",
    "Welcome to the 2021 Better Working World Data Challenge! \n",
    "\n",
    "Prior to running this notebook, make sure you have:\n",
    "* **Registered** for \"Challenge 2: Fire behavior\" on the [EY Data Science Platform](https://datascience.ey.com/).\n",
    "* **Completed** \"Challenge 1: Fire mapping\" to a reasonable accuracy before starting on Challenge 2. You will use your process/model from Challenge 1 to create more annotated data for Challenge 2.\n"
   ]
  },
  {
   "cell_type": "markdown",
   "metadata": {},
   "source": [
    "### Context \n",
    "\n",
    "Airborne infrared linescan images are currently considered one of the best sources of information about fire intensity and location. However, there are times when it is not possible to acquire infrared linescan imagery, for example due to resource contraints or unsafe conditions. An alternative source of images for fire mapping is via satellite. The availability and resolution of satellite imagery has increased substantially in recent years, making it possible to monitor bushfires from space. Satellite imagery is not always available, however it is a valuable complement to other information sources.\n",
    "\n",
    "While the number of satellite passes per day is continuing to increase, especially with commercial operators expanding their service offerings, there are still long periods when there is no coverage. For times when neither linescan nor satellite data are available, it is possible to extrapolate from previous observations to forecast the current location of the fire. It can also be useful for firefighting teams to forecast future locations of fire based on current observations.\n",
    "\n",
    "\n",
    "### Your task\n",
    "\n",
    "<img src=\"resources/animated_timeseries.gif\" align=\"right\" width=300px style=\"margin:0px 40px 40px 40px\">\n",
    "\n",
    "The training dataset you worked with in Challenge 1 contains 129 linescan images, plus an additional 5 linescan images that were used for testing. These images were captured over seven different fire events. For each of the fire events, a narrative sequence of images can be produced from a combination of linescan and satellite images. In two of the seven fire events, linescan images have been withheld at key time points. Your task is to produce a map of the fire at those time points.\n",
    "\n",
    "Similar to Challenge 1, the `test.csv` file contains the details of the pixels that you must forecast using the narrative series of each fire event.\n",
    "\n",
    "All linescan and satellite images are served via the Open Data Cube python library.\n",
    "\n",
    " To forecast the fire spread over time, you may need to use information such as:\n",
    "- terrain, vegetation type and vegetation condition prior to the fire (available from satellite images), for example the NDVI product as a proxy for fuel loading or land use type (see resources in the 02_Real_world_examples folder)\n",
    "- linescan and satellite images taken during the fire\n",
    "\n",
    "Note that the timeseries animation shown here was created in the [Linescan loading examples](../04_EY_challenge2/Linescan_loading_examples.ipynb) notebook."
   ]
  },
  {
   "cell_type": "code",
   "execution_count": 1,
   "metadata": {},
   "outputs": [
    {
     "name": "stderr",
     "output_type": "stream",
     "text": [
      "/env/lib/python3.6/site-packages/geopandas/_compat.py:88: UserWarning: The Shapely GEOS version (3.7.2-CAPI-1.11.0 ) is incompatible with the GEOS version PyGEOS was compiled with (3.9.0-CAPI-1.16.2). Conversions between both will be slow.\n",
      "  shapely_geos_version, geos_capi_version_string\n"
     ]
    }
   ],
   "source": [
    "%matplotlib inline\n",
    "import sys\n",
    "import numpy as np\n",
    "import pandas as pd\n",
    "import geopandas as gpd\n",
    "\n",
    "from odc.ui import show_datasets\n",
    "from datacube import Datacube\n",
    "from datacube.testutils.io import native_geobox\n",
    "\n",
    "import ipyleaflet as L"
   ]
  },
  {
   "cell_type": "code",
   "execution_count": 2,
   "metadata": {},
   "outputs": [],
   "source": [
    "dc = Datacube()"
   ]
  },
  {
   "cell_type": "code",
   "execution_count": 3,
   "metadata": {},
   "outputs": [],
   "source": [
    "linescan_datasets = dc.find_datasets(product='linescan')\n",
    "linescan_datasets = sorted(linescan_datasets, key = lambda ds: (ds.center_time, ds.id))"
   ]
  },
  {
   "cell_type": "code",
   "execution_count": 4,
   "metadata": {},
   "outputs": [],
   "source": [
    "vector_file = '../03_EY_challenge1/resources/fire_boundaries.shp'\n",
    "gdf = gpd.read_file(vector_file)\n",
    "# gdf.head(1).T"
   ]
  },
  {
   "cell_type": "markdown",
   "metadata": {},
   "source": [
    "## Exploring fire events"
   ]
  },
  {
   "cell_type": "markdown",
   "metadata": {},
   "source": [
    "The `train.csv` file lists all the linescans that are available, including an \"event\" column showing which fire event they are part of."
   ]
  },
  {
   "cell_type": "code",
   "execution_count": 5,
   "metadata": {
    "scrolled": true
   },
   "outputs": [
    {
     "data": {
      "text/html": [
       "<div>\n",
       "<style scoped>\n",
       "    .dataframe tbody tr th:only-of-type {\n",
       "        vertical-align: middle;\n",
       "    }\n",
       "\n",
       "    .dataframe tbody tr th {\n",
       "        vertical-align: top;\n",
       "    }\n",
       "\n",
       "    .dataframe thead th {\n",
       "        text-align: right;\n",
       "    }\n",
       "</style>\n",
       "<table border=\"1\" class=\"dataframe\">\n",
       "  <thead>\n",
       "    <tr style=\"text-align: right;\">\n",
       "      <th></th>\n",
       "      <th>id</th>\n",
       "      <th>label</th>\n",
       "      <th>dateTimeLocal</th>\n",
       "      <th>dateTimeUTC</th>\n",
       "      <th>event</th>\n",
       "    </tr>\n",
       "  </thead>\n",
       "  <tbody>\n",
       "    <tr>\n",
       "      <th>0</th>\n",
       "      <td>0</td>\n",
       "      <td>ROSEDALE_P1_201901041439_MGA94_55</td>\n",
       "      <td>4/01/2019 14:39</td>\n",
       "      <td>4/01/2019 3:39</td>\n",
       "      <td>Rosedale</td>\n",
       "    </tr>\n",
       "    <tr>\n",
       "      <th>1</th>\n",
       "      <td>1</td>\n",
       "      <td>ROSEDALE_1_P1_201901041446_MGA94_55</td>\n",
       "      <td>4/01/2019 14:46</td>\n",
       "      <td>4/01/2019 3:46</td>\n",
       "      <td>Rosedale</td>\n",
       "    </tr>\n",
       "    <tr>\n",
       "      <th>2</th>\n",
       "      <td>2</td>\n",
       "      <td>ROSEDALE_3_P1_201901041501_MGA94_55</td>\n",
       "      <td>4/01/2019 15:01</td>\n",
       "      <td>4/01/2019 4:01</td>\n",
       "      <td>Rosedale</td>\n",
       "    </tr>\n",
       "  </tbody>\n",
       "</table>\n",
       "</div>"
      ],
      "text/plain": [
       "   id                                label    dateTimeLocal     dateTimeUTC  \\\n",
       "0   0    ROSEDALE_P1_201901041439_MGA94_55  4/01/2019 14:39  4/01/2019 3:39   \n",
       "1   1  ROSEDALE_1_P1_201901041446_MGA94_55  4/01/2019 14:46  4/01/2019 3:46   \n",
       "2   2  ROSEDALE_3_P1_201901041501_MGA94_55  4/01/2019 15:01  4/01/2019 4:01   \n",
       "\n",
       "      event  \n",
       "0  Rosedale  \n",
       "1  Rosedale  \n",
       "2  Rosedale  "
      ]
     },
     "execution_count": 5,
     "metadata": {},
     "output_type": "execute_result"
    }
   ],
   "source": [
    "train = pd.read_csv('resources/challenge2_train.csv')\n",
    "train.head(3)"
   ]
  },
  {
   "cell_type": "markdown",
   "metadata": {},
   "source": [
    "Note that two linescans are relevant for multiple fire events that were occurring simultaneously, Macalister91 & Macalister97. There are also some additional linescans marked \"other\", that are not part of the seven main fire events."
   ]
  },
  {
   "cell_type": "code",
   "execution_count": 6,
   "metadata": {},
   "outputs": [
    {
     "data": {
      "text/plain": [
       "Macalister91                   30\n",
       "Walhalla                       24\n",
       "Macalister97                   23\n",
       "Tambo76                        20\n",
       "Latrobe86                      15\n",
       "Other                          10\n",
       "Yarra51                         7\n",
       "Rosedale                        3\n",
       "Macalister91 & Macalister97     2\n",
       "Name: event, dtype: int64"
      ]
     },
     "execution_count": 6,
     "metadata": {},
     "output_type": "execute_result"
    }
   ],
   "source": [
    "train.event.value_counts()"
   ]
  },
  {
   "cell_type": "markdown",
   "metadata": {},
   "source": [
    "Using this file, we can group the linescans into discreet events. First, we'll join the event-to-linescan mapping from `train.csv` onto our list of which linescan datasets that are available, by creating a new \"event\" property in the list."
   ]
  },
  {
   "cell_type": "code",
   "execution_count": 7,
   "metadata": {
    "scrolled": false
   },
   "outputs": [],
   "source": [
    "for ls in linescan_datasets:\n",
    "    ls.event = train.loc[train.label==ls.metadata_doc[\"label\"], 'event'].values[0]"
   ]
  },
  {
   "cell_type": "markdown",
   "metadata": {},
   "source": [
    "Now let's explore just the Yarra51 event. The cell below uses list comprehension to return a subset of the `linescan_dataset` list, and the following cell prints the \"label\" property of each linecan in the subset."
   ]
  },
  {
   "cell_type": "code",
   "execution_count": 8,
   "metadata": {},
   "outputs": [],
   "source": [
    "Yarra51_ls = [ls for ls in linescan_datasets if ls.event == 'Yarra51']"
   ]
  },
  {
   "cell_type": "code",
   "execution_count": 9,
   "metadata": {},
   "outputs": [
    {
     "name": "stdout",
     "output_type": "stream",
     "text": [
      "YARRA51_620_P1_201903051812_MGA94_55\n",
      "YARRA51_622_P1_201903051841_MGA94_55\n",
      "YARRA51_633_P1_201903061644_MGA94_55\n",
      "YARRA51_704_P1_201903091659_MGA94_55\n",
      "YARRA51_726_P1_201903100129_MGA94_55\n",
      "YARRA51_794_P1_201903151412_MGA94_55\n",
      "YARRA51_809_P1_201903161558_MGA94_55\n"
     ]
    }
   ],
   "source": [
    "for ls in Yarra51_ls:\n",
    "    print(ls.metadata_doc['label'])"
   ]
  },
  {
   "cell_type": "markdown",
   "metadata": {},
   "source": [
    "We'll also filter the polygon dataset to get a quick look at what ground truth annotations are available for this fire event. You are encouraged to use your solution from Challenge 1 to fill in the blanks where there is no ground truth annotation available. From this list you can see that there are no polygons provided for \"YARRA51_622_P1_201903051841_MGA94_55\"."
   ]
  },
  {
   "cell_type": "code",
   "execution_count": 10,
   "metadata": {},
   "outputs": [
    {
     "data": {
      "text/plain": [
       "array(['yarra51 620 p1_201903051812_mga94_55.jpg',\n",
       "       'yarra51 633 p1_201903061644_mga94_55.jpg',\n",
       "       'yarra51 704 p1_201903091659_mga94_55.jpg',\n",
       "       'yarra51 726 p1_201903100129_mga94_55.jpg',\n",
       "       'yarra51 794 p1_201903151412_mga94_55.jpg',\n",
       "       'ObservationsAreaEditing_20190312_1700',\n",
       "       'yarra51 809 p1_201903161558_mga94_55.jpg'], dtype=object)"
      ]
     },
     "execution_count": 10,
     "metadata": {},
     "output_type": "execute_result"
    }
   ],
   "source": [
    "Yarra51_gdf = gdf.loc[gdf.event == 'Yarra51']\n",
    "Yarra51_gdf.SourceName.unique()"
   ]
  },
  {
   "cell_type": "markdown",
   "metadata": {},
   "source": [
    "Let's see what this looks like on a map, alongside the available polygons. Note we will also need to change the CRS of the polygons to epsg:4326 to display them on the map."
   ]
  },
  {
   "cell_type": "code",
   "execution_count": 93,
   "metadata": {},
   "outputs": [
    {
     "name": "stderr",
     "output_type": "stream",
     "text": [
      "/env/lib/python3.6/site-packages/geopandas/geodataframe.py:853: SettingWithCopyWarning: \n",
      "A value is trying to be set on a copy of a slice from a DataFrame.\n",
      "Try using .loc[row_indexer,col_indexer] = value instead\n",
      "\n",
      "See the caveats in the documentation: https://pandas.pydata.org/pandas-docs/stable/user_guide/indexing.html#returning-a-view-versus-a-copy\n",
      "  super(GeoDataFrame, self).__setitem__(key, value)\n"
     ]
    }
   ],
   "source": [
    "m = show_datasets(Yarra51_ls)\n",
    "\n",
    "Yarra51_gdf.geometry = Yarra51_gdf.geometry.to_crs('epsg:4326')\n",
    "\n",
    "layer_gdf = L.GeoData(geo_dataframe=Yarra51_gdf, name = 'polygons',\n",
    "                      style={'color': 'black', 'fillColor': '#3366cc', 'opacity':0.05,\n",
    "                             'weight':1.9, 'fillOpacity':0.6}\n",
    "                     )\n",
    "\n",
    "m.add_layer(layer = layer_gdf)"
   ]
  },
  {
   "cell_type": "code",
   "execution_count": 56,
   "metadata": {
    "scrolled": false
   },
   "outputs": [
    {
     "data": {
      "application/vnd.jupyter.widget-view+json": {
       "model_id": "acb1860603a94a1593ace549916a9d15",
       "version_major": 2,
       "version_minor": 0
      },
      "text/plain": [
       "Map(center=[-37.58633193103924, 145.88252890518146], controls=(ZoomControl(options=['position', 'zoom_in_text'…"
      ]
     },
     "metadata": {},
     "output_type": "display_data"
    }
   ],
   "source": [
    "m"
   ]
  },
  {
   "cell_type": "code",
   "execution_count": 92,
   "metadata": {
    "scrolled": false
   },
   "outputs": [],
   "source": [
    "# for ls in Yarra51_ls:\n",
    "#     ng = native_geobox(ls)\n",
    "#     ls_data = dc.load(product='linescan',\n",
    "#                       id=ls.metadata_doc['id'],\n",
    "#                       output_crs = ls.metadata_doc['crs'],\n",
    "#                       resolution = ng.resolution)\n",
    "#     ls_data['linescan'].squeeze().plot.imshow(cmap='inferno', robust=False, size=8)"
   ]
  },
  {
   "cell_type": "markdown",
   "metadata": {},
   "source": [
    "Using the functions in the [Linescan loading examples](../04_EY_challenge2/Linescan_loading_examples.ipynb) notebook you can also find satellite data relevant to the fire event. This could be used to supplement time periods between linescans, or to provide information about the conditions of the fire area prior to the fire. You can also use the functions in that notebook to find a common resolution and extent between linescans, and to create animations of the event."
   ]
  },
  {
   "cell_type": "markdown",
   "metadata": {},
   "source": [
    "### Forecast fire progression"
   ]
  },
  {
   "cell_type": "markdown",
   "metadata": {},
   "source": [
    "Your task is now to forecast the progression of each fire event. You could develop a method using one fire or set of training images, and then validate it using other fire events/sets of training images.\n",
    "\n",
    "For example, in a basic solution you could find the edge of the fire front at a given time, observe how far it travels between two adjacent images, and then adjust this distance based on the time elapsed to a third image. You could also adjust the speed based on local ground conditions such as vegetation and land use type.\n",
    "\n",
    "For a more sophisticated solution you could implement a neural network to do next-frame prediction for each 'frame' of the fire event, based on a string of previous frames."
   ]
  },
  {
   "cell_type": "markdown",
   "metadata": {},
   "source": [
    "### Making a submission\n",
    "The `test.csv` file provides a list of 5000 coordinates that require classification at five additional fire observations where linescans have not been provided. Note that the coordinates are denoted in the CRS mentioned above, epsg:28355. Follow the same process described in the Challenge 1 example notebook to create a submission.\n",
    "\n",
    "Of the five linescans which the test coordinate pairs have been selected from, three are from the Tambo76 event and two are from the Rosedale event. In both cases, some training images from the start of the fire event, prior to the linescans selected for testing, have been provided: 3 from the Rosedale event and 20 from the Tambo76 event."
   ]
  },
  {
   "cell_type": "code",
   "execution_count": 62,
   "metadata": {},
   "outputs": [
    {
     "data": {
      "text/html": [
       "<div>\n",
       "<style scoped>\n",
       "    .dataframe tbody tr th:only-of-type {\n",
       "        vertical-align: middle;\n",
       "    }\n",
       "\n",
       "    .dataframe tbody tr th {\n",
       "        vertical-align: top;\n",
       "    }\n",
       "\n",
       "    .dataframe thead th {\n",
       "        text-align: right;\n",
       "    }\n",
       "</style>\n",
       "<table border=\"1\" class=\"dataframe\">\n",
       "  <thead>\n",
       "    <tr style=\"text-align: right;\">\n",
       "      <th></th>\n",
       "      <th>id</th>\n",
       "      <th>event</th>\n",
       "      <th>x</th>\n",
       "      <th>y</th>\n",
       "      <th>dateTimeLocal</th>\n",
       "      <th>dateTimeUTC</th>\n",
       "      <th>target</th>\n",
       "    </tr>\n",
       "  </thead>\n",
       "  <tbody>\n",
       "    <tr>\n",
       "      <th>0</th>\n",
       "      <td>0</td>\n",
       "      <td>Rosedale</td>\n",
       "      <td>491391</td>\n",
       "      <td>5769660</td>\n",
       "      <td>4/01/2019 15:40</td>\n",
       "      <td>4/01/2019 4:40</td>\n",
       "      <td>NaN</td>\n",
       "    </tr>\n",
       "    <tr>\n",
       "      <th>1</th>\n",
       "      <td>1</td>\n",
       "      <td>Rosedale</td>\n",
       "      <td>486132</td>\n",
       "      <td>5764884</td>\n",
       "      <td>4/01/2019 15:40</td>\n",
       "      <td>4/01/2019 4:40</td>\n",
       "      <td>NaN</td>\n",
       "    </tr>\n",
       "    <tr>\n",
       "      <th>2</th>\n",
       "      <td>2</td>\n",
       "      <td>Rosedale</td>\n",
       "      <td>484371</td>\n",
       "      <td>5776757</td>\n",
       "      <td>4/01/2019 15:40</td>\n",
       "      <td>4/01/2019 4:40</td>\n",
       "      <td>NaN</td>\n",
       "    </tr>\n",
       "  </tbody>\n",
       "</table>\n",
       "</div>"
      ],
      "text/plain": [
       "   id     event       x        y    dateTimeLocal     dateTimeUTC  target\n",
       "0   0  Rosedale  491391  5769660  4/01/2019 15:40  4/01/2019 4:40     NaN\n",
       "1   1  Rosedale  486132  5764884  4/01/2019 15:40  4/01/2019 4:40     NaN\n",
       "2   2  Rosedale  484371  5776757  4/01/2019 15:40  4/01/2019 4:40     NaN"
      ]
     },
     "execution_count": 62,
     "metadata": {},
     "output_type": "execute_result"
    }
   ],
   "source": [
    "test = pd.read_csv('resources/challenge2_test.csv')\n",
    "test.head(3)"
   ]
  },
  {
   "cell_type": "code",
   "execution_count": 67,
   "metadata": {},
   "outputs": [
    {
     "data": {
      "text/plain": [
       "Tambo76     3.0\n",
       "Rosedale    2.0\n",
       "Name: event, dtype: float64"
      ]
     },
     "execution_count": 67,
     "metadata": {},
     "output_type": "execute_result"
    }
   ],
   "source": [
    "test.event.value_counts()/1000"
   ]
  },
  {
   "cell_type": "markdown",
   "metadata": {},
   "source": [
    "***\n",
    "## Additional information\n",
    "\n",
    "**License:** The code in this notebook is licensed under the [Apache License, Version 2.0](https://www.apache.org/licenses/LICENSE-2.0). \n",
    "Digital Earth Australia data is licensed under the [Creative Commons by Attribution 4.0](https://creativecommons.org/licenses/by/4.0/) license.\n",
    "\n",
    "**Contact:** If you need assistance, please review the FAQ section and support options on the [EY Data Science Platform](https://datascience.ey.com/)."
   ]
  }
 ],
 "metadata": {
  "kernelspec": {
   "display_name": "Python 3",
   "language": "python",
   "name": "python3"
  },
  "language_info": {
   "codemirror_mode": {
    "name": "ipython",
    "version": 3
   },
   "file_extension": ".py",
   "mimetype": "text/x-python",
   "name": "python",
   "nbconvert_exporter": "python",
   "pygments_lexer": "ipython3",
   "version": "3.6.9"
  }
 },
 "nbformat": 4,
 "nbformat_minor": 4
}
