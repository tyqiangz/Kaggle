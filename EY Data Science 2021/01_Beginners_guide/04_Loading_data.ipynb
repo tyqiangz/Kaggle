{
 "cells": [
  {
   "cell_type": "markdown",
   "metadata": {},
   "source": [
    "# Introduction to loading data <img align=\"right\" src=\"../Supplementary_data/dea_logo.jpg\">\n",
    "\n",
    "* **Acknowledgement**: This notebook was originally created by [Digital Eath Australia (DEA)](https://www.ga.gov.au/about/projects/geographic/digital-earth-australia) and has been modified for use in the EY Data Science Program\n",
    "* **Products used:** \n",
    "[ga_s2a_ard_nbar_granule](https://explorer.sandbox.dea.ga.gov.au/ga_s2a_ard_nbar_granule),\n",
    "[ga_s2b_ard_nbar_granule](https://explorer.sandbox.dea.ga.gov.au/ga_s2b_ard_nbar_granule)\n",
    "* **Prerequisites:** Users of this notebook should have a basic understanding of:\n",
    "    * How to run a [Jupyter notebook](01_Jupyter_notebooks.ipynb)\n",
    "    * The basic structure of the DEA [satellite datasets](02_DEA.ipynb)\n",
    "    * Inspecting available [DEA products and measurements](03_Products_and_measurements.ipynb)\n",
    "    "
   ]
  },
  {
   "cell_type": "markdown",
   "metadata": {},
   "source": [
    "## Background\n",
    "Loading data from the [Digital Earth Australia (DEA)](https://www.ga.gov.au/dea) instance of the [Open Data Cube](https://www.opendatacube.org/) requires the construction of a data query that specifies the what, where, and when of the data request.\n",
    "Each query returns a [multi-dimensional xarray object](http://xarray.pydata.org/en/stable/) containing the contents of your query.\n",
    "It is essential to understand the `xarray` data structures as they are fundamental to the structure of data loaded from the datacube.\n",
    "Manipulations, transformations and visualisation of `xarray` objects provide datacube users with the ability to explore and analyse DEA datasets, as well as pose and answer scientific questions."
   ]
  },
  {
   "cell_type": "markdown",
   "metadata": {},
   "source": [
    "## Description\n",
    "This notebook will introduce how to load data from the DEA datacube through the construction of a query and use of the `dc.load()` function.\n",
    "Topics covered include:\n",
    "\n",
    "1. Loading data using `dc.load()`\n",
    "2. Interpreting the resulting `xarray.Dataset` object\n",
    "    * Inspecting an individual `xarray.DataArray`\n",
    "3. Customising parameters passed to the `dc.load()` function\n",
    "    * Loading specific measurements\n",
    "    * Loading data for coordinates in a custom coordinate reference system (CRS)\n",
    "    * Projecting data to a new CRS and spatial resolution \n",
    "    * Specifying a specific spatial resampling method\n",
    "4. Loading data using a reusable dictionary query\n",
    "5. Loading matching data from multiple products using `like`\n",
    "6. Adding a progress bar to the data load\n",
    "\n",
    "***"
   ]
  },
  {
   "cell_type": "markdown",
   "metadata": {},
   "source": [
    "## Getting started\n",
    "To run this introduction to loading data from DEA, run all the cells in the notebook starting with the \"Load packages\" cell. For help with running notebook cells, refer back to the [Jupyter Notebooks notebook](01_Jupyter_notebooks.ipynb)."
   ]
  },
  {
   "cell_type": "markdown",
   "metadata": {},
   "source": [
    "### Load packages\n",
    "The `datacube` package is required to query the datacube database and load some data. \n",
    "The `with_ui_cbk` function from `odc.ui` enables a progress bar when loading large amounts of data."
   ]
  },
  {
   "cell_type": "code",
   "execution_count": 1,
   "metadata": {},
   "outputs": [],
   "source": [
    "import datacube\n",
    "from odc.ui import with_ui_cbk"
   ]
  },
  {
   "cell_type": "markdown",
   "metadata": {},
   "source": [
    "### Connect to the datacube\n",
    "The next step is to connect to the datacube database.\n",
    "The resulting `dc` datacube object can then be used to load data.\n",
    "The `app` parameter is a unique name used to identify the notebook that does not have any effect on the analysis."
   ]
  },
  {
   "cell_type": "code",
   "execution_count": 2,
   "metadata": {},
   "outputs": [],
   "source": [
    "dc = datacube.Datacube(app=\"04_Loading_data\")"
   ]
  },
  {
   "cell_type": "markdown",
   "metadata": {},
   "source": [
    "## Loading data using `dc.load()`\n",
    "\n",
    "Loading data from the datacube uses the [dc.load()](https://datacube-core.readthedocs.io/en/latest/dev/api/generate/datacube.Datacube.load.html) function.\n",
    "\n",
    "The function requires the following minimum arguments:\n",
    "\n",
    "* `product`: The data product to load (to revise DEA products, see the [Products and measurements](03_Products_and_measurements.ipynb) notebook).\n",
    "* `x`: The spatial region in the *x* dimension.\n",
    "* `y`: The spatial region in the *y* dimension. The dimensions ``longitude``/``latitude`` and ``x``/``y`` can be used interchangeably.\n",
    "* `crs`: The geographical Cooridinate Reference System (CRS) that the *x* and *y* arguments are in.\n",
    "* `time`: The temporal extent. The time dimension can be specified using a tuple of datetime objects or strings in the \"YYYY\", \"YYYY-MM\" or \"YYYY-MM-DD\" format. \n",
    "* `output_crs`: The CRS to return the data in.\n",
    "* `resolution`: The resolution to return the data in. The units are set by the output_crs argument.\n",
    "\n",
    "For example, to load the first week of January 2018 data from the [Sentinel-2A Analysis Ready Data NBAR product](https://explorer.sandbox.dea.ga.gov.au/ga_s2a_ard_nbar_granule) for Western Port Bay near Phillip Island in southern Victoria, use the following parameters:\n",
    "\n",
    "* `product`: `ga_s2a_ard_nbar_granule`\n",
    "* `x`: `(145.1, 145.2)`\n",
    "* `y`: `(-38.4, -38.5)`\n",
    "* `time`: `(\"2018-01-01\", \"2018-01-07\")`\n",
    "* `crs`: `\"epsg:4326\"`\n",
    "* `output_crs`: `\"epsg:4326\"`\n",
    "* `resolution`: `(-0.01, 0.01)`\n",
    "\n",
    "Run the following cell to load all datasets from the `ga_s2a_ard_nbar_granule` product that match this spatial and temporal extent:"
   ]
  },
  {
   "cell_type": "code",
   "execution_count": 3,
   "metadata": {},
   "outputs": [
    {
     "name": "stdout",
     "output_type": "stream",
     "text": [
      "<xarray.Dataset>\n",
      "Dimensions:               (latitude: 10, longitude: 10, time: 1)\n",
      "Coordinates:\n",
      "  * time                  (time) datetime64[ns] 2018-01-03T00:11:01.026000\n",
      "  * latitude              (latitude) float64 -38.41 -38.41 ... -38.48 -38.5\n",
      "  * longitude             (longitude) float64 145.1 145.1 145.1 ... 145.2 145.2\n",
      "    spatial_ref           int32 4326\n",
      "Data variables:\n",
      "    azimuthal_exiting     (time, latitude, longitude) float32 -150.63 ... -95.73842\n",
      "    azimuthal_incident    (time, latitude, longitude) float32 -132.11162 ... -67.85103\n",
      "    exiting               (time, latitude, longitude) float32 6.1649747 ... 8.596628\n",
      "    incident              (time, latitude, longitude) float32 31.505491 ... 33.584988\n",
      "    relative_azimuth      (time, latitude, longitude) float32 30.557167 ... 30.78624\n",
      "    relative_slope        (time, latitude, longitude) float32 18.518387 ... 27.88739\n",
      "    satellite_azimuth     (time, latitude, longitude) float32 101.02727 ... 101.03792\n",
      "    satellite_view        (time, latitude, longitude) float32 7.5380445 ... 6.8394756\n",
      "    solar_azimuth         (time, latitude, longitude) float32 70.4701 ... 70.25168\n",
      "    solar_zenith          (time, latitude, longitude) float32 31.960997 ... 31.926397\n",
      "    terrain_shadow        (time, latitude, longitude) uint8 1 1 1 1 ... 1 1 1 1\n",
      "    fmask                 (time, latitude, longitude) uint8 2 2 2 2 ... 1 1 1 3\n",
      "    nbar_contiguity       (time, latitude, longitude) uint8 1 1 1 1 ... 1 1 1 1\n",
      "    nbar_coastal_aerosol  (time, latitude, longitude) int16 998 998 ... 4430 929\n",
      "    nbar_blue             (time, latitude, longitude) int16 831 1070 ... 573 728\n",
      "    nbar_green            (time, latitude, longitude) int16 878 1089 ... 786 957\n",
      "    nbar_red              (time, latitude, longitude) int16 714 889 ... 1274\n",
      "    nbar_red_edge_1       (time, latitude, longitude) int16 1642 1485 ... 770\n",
      "    nbar_red_edge_2       (time, latitude, longitude) int16 2388 2333 ... 1057\n",
      "    nbar_red_edge_3       (time, latitude, longitude) int16 2778 2648 ... 1198\n",
      "    nbar_nir_1            (time, latitude, longitude) int16 812 1043 ... 2811\n",
      "    nbar_nir_2            (time, latitude, longitude) int16 3210 2809 ... 1357\n",
      "    nbar_swir_2           (time, latitude, longitude) int16 2162 1630 ... 1075\n",
      "    nbar_swir_3           (time, latitude, longitude) int16 1344 1175 ... 567\n",
      "Attributes:\n",
      "    crs:           epsg:4326\n",
      "    grid_mapping:  spatial_ref\n"
     ]
    }
   ],
   "source": [
    "ds = dc.load(product=\"ga_s2a_ard_nbar_granule\",\n",
    "             x=(145.1, 145.2),\n",
    "             y=(-38.4, -38.5),\n",
    "             time=(\"2018-01-01\", \"2018-01-07\"),\n",
    "             crs=\"epsg:4326\",\n",
    "             output_crs=\"epsg:4326\",\n",
    "             resolution=(-0.01, 0.01))\n",
    "\n",
    "print(ds)"
   ]
  },
  {
   "cell_type": "markdown",
   "metadata": {},
   "source": [
    "### Interpreting the resulting `xarray.Dataset`\n",
    "The variable `ds` has returned an `xarray.Dataset` containing all data that matched the spatial and temporal query parameters inputted into `dc.load`.\n",
    "\n",
    "*Dimensions* \n",
    "\n",
    "* This header identifies the number of timesteps returned in the search (`time: 1`) as well as the number of pixels in the `latitude` and `longitude` directions of the data query.\n",
    "\n",
    "*Coordinates* \n",
    "\n",
    "* `time` identifies the date attributed to each returned timestep.\n",
    "* `latitude` and `longitude` are the coordinates for each pixel within the spatial bounds of the query.\n",
    "\n",
    "*Data variables*\n",
    "\n",
    "* These are the measurements available for the nominated product. \n",
    "For every date (`time`) returned by the query, the measured value at each pixel (`latitude`, `longitude`) is returned as an array for each measurement.\n",
    "Each data variable is itself an `xarray.DataArray` object ([see below](#Inspecting-an-individual-xarray.DataArray)). \n",
    "\n",
    "*Attributes*\n",
    "\n",
    "* `crs` identifies the coordinate reference system (CRS) of the loaded data. "
   ]
  },
  {
   "cell_type": "markdown",
   "metadata": {},
   "source": [
    "### Inspecting an individual `xarray.DataArray`\n",
    "The `xarray.Dataset` loaded above is itself a collection of individual `xarray.DataArray` objects that hold the actual data for each data variable/measurement. \n",
    "For example, all measurements listed under _Data variables_ above (e.g. `nbar_blue`, `nbar_green`, `nbar_red`, `nbar_nir_1`, `nbar_nir_2`, `nbar_swir_1`) are `xarray.DataArray` objects.\n",
    "\n",
    "These `xarray.DataArray` objects can be inspected or interacted with by using either of the following syntaxes:\n",
    "```\n",
    "ds[\"measurement_name\"]\n",
    "```\n",
    "or\n",
    "```\n",
    "ds.measurement_name\n",
    "```\n",
    "\n",
    "The ability to access individual variables means that these can be directly viewed, or further manipulated to create new variables. \n",
    "For example, run the following cell to access data from the near infra-red satellite band (i.e. `nbar_nir_1`):"
   ]
  },
  {
   "cell_type": "code",
   "execution_count": 4,
   "metadata": {},
   "outputs": [
    {
     "name": "stdout",
     "output_type": "stream",
     "text": [
      "<xarray.DataArray 'nbar_nir_1' (time: 1, latitude: 10, longitude: 10)>\n",
      "array([[[ 812, 1043,  981, 1052, 1018,  776,  488,  573,  596,  705],\n",
      "        [ 777,  594,  727,  952,  678,  534,  458,  477,  552,  624],\n",
      "        [1247,  545,  815,  900,  700,  474,  474,  395, 2404,  783],\n",
      "        [ 592,  543,  775,  858,  656,  434,  421,  418,  636,  736],\n",
      "        [ 503,  526,  831,  640, 1264,  358,  470,  453,  526,  595],\n",
      "        [ 341,  480,  545,  386,  234,  358, 2769, 1560,  546,  474],\n",
      "        [ 342,  351,  348,  349,  269,  240,  353,  534, 2242, 2759],\n",
      "        [ 341,  358,  369,  289,  350,  247,  396, 2477, 3340, 1412],\n",
      "        [ 263,  401,  476,  387,  226,  471, 2692, 2928,  804, 5028],\n",
      "        [ 329,  446,  322,  185,  275,  316, 2782, 3125, 2681, 2811]]],\n",
      "      dtype=int16)\n",
      "Coordinates:\n",
      "  * time         (time) datetime64[ns] 2018-01-03T00:11:01.026000\n",
      "  * latitude     (latitude) float64 -38.41 -38.41 -38.43 ... -38.48 -38.48 -38.5\n",
      "  * longitude    (longitude) float64 145.1 145.1 145.1 ... 145.2 145.2 145.2\n",
      "    spatial_ref  int32 4326\n",
      "Attributes:\n",
      "    units:                1\n",
      "    nodata:               -999\n",
      "    spectral_definition:  {'response': [0.000451, 0.007614, 0.019072, 0.03349...\n",
      "    crs:                  epsg:4326\n",
      "    grid_mapping:         spatial_ref\n"
     ]
    }
   ],
   "source": [
    "print(ds.nbar_nir_1)"
   ]
  },
  {
   "cell_type": "markdown",
   "metadata": {},
   "source": [
    "Note that the object header informs us that it is an `xarray.DataArray` containing data for the `nir` satellite band. \n",
    "\n",
    "Like an `xarray.Dataset`, the array also includes information about the data's **dimensions** (i.e. `(time: 1, latitude: 10, longitude: 10)`), **coordinates** and **attributes**.\n",
    "This particular data variable/measurement contains some additional information that is specific to the `nbar_nir_1` band, including details of array's nodata value (i.e. `nodata: -999`).\n",
    "\n",
    "> For a more in-depth introduction to `xarray` data structures, refer to the [official xarray documentation](http://xarray.pydata.org/en/stable/data-structures.html)"
   ]
  },
  {
   "cell_type": "markdown",
   "metadata": {},
   "source": [
    "## Customising the `dc.load()` function\n",
    "\n",
    "The `dc.load()` function can be tailored to refine a query.\n",
    "\n",
    "Customisation options include:\n",
    "\n",
    "* `measurements:` This argument is used to provide a list of measurement names to load, as listed in `dc.list_measurements()`. \n",
    "For satellite datasets, measurements contain data for each individual satellite band (e.g. near infrared). \n",
    "If not provided, all measurements for the product will be returned.\n",
    "* `crs:` The coordinate reference system (CRS) of the query's `x` and `y` coordinates is assumed to be `WGS84`/`EPSG:4326` unless the `crs` field is supplied, even if the stored data is in another projection or the `output_crs` is specified. \n",
    "The `crs` parameter is required if the query's coordinates are in any other CRS.\n",
    "* `group_by:` Satellite datasets based around scenes can have multiple observations per day with slightly different time stamps as the satellite collects data along its path.\n",
    "These observations can be combined by reducing the `time` dimension to the day level using `group_by=solar_day`.\n",
    "* `output_crs` and `resolution`: To reproject or change the resolution the data, supply the `output_crs` and `resolution` fields.    \n",
    "* `resampling`: This argument allows you to specify a custom spatial resampling method to use when data is reprojected into a different CRS. \n",
    "\n",
    "Example syntax on the use of these options follows in the cells below.\n",
    "\n",
    "> For help or more customisation options, run `help(dc.load)` in an empty cell or visit the function's [documentation page](https://datacube-core.readthedocs.io/en/latest/dev/api/generate/datacube.Datacube.load.html)\n"
   ]
  },
  {
   "cell_type": "markdown",
   "metadata": {},
   "source": [
    "### Specifying measurements\n",
    "By default, `dc.load()` will load *all* measurements in a product.\n",
    "\n",
    "To load data from the `red`, `green` and `blue` satellite bands only, add `measurements=[\"nbar_red\", \"nbar_green\", \"nbar_blue\"]` to the query:"
   ]
  },
  {
   "cell_type": "code",
   "execution_count": 5,
   "metadata": {},
   "outputs": [
    {
     "name": "stdout",
     "output_type": "stream",
     "text": [
      "<xarray.Dataset>\n",
      "Dimensions:      (latitude: 10, longitude: 10, time: 1)\n",
      "Coordinates:\n",
      "  * time         (time) datetime64[ns] 2018-01-03T00:11:01.026000\n",
      "  * latitude     (latitude) float64 -38.41 -38.41 -38.43 ... -38.48 -38.48 -38.5\n",
      "  * longitude    (longitude) float64 145.1 145.1 145.1 ... 145.2 145.2 145.2\n",
      "    spatial_ref  int32 4326\n",
      "Data variables:\n",
      "    nbar_red     (time, latitude, longitude) int16 714 889 788 ... 1065 1274\n",
      "    nbar_green   (time, latitude, longitude) int16 878 1089 1033 ... 909 786 957\n",
      "    nbar_blue    (time, latitude, longitude) int16 831 1070 1075 ... 641 573 728\n",
      "Attributes:\n",
      "    crs:           epsg:4326\n",
      "    grid_mapping:  spatial_ref\n"
     ]
    }
   ],
   "source": [
    "# Note the optional inclusion of the measurements list\n",
    "ds_rgb = dc.load(product=\"ga_s2a_ard_nbar_granule\",\n",
    "                 measurements=[\"nbar_red\", \"nbar_green\", \"nbar_blue\"],\n",
    "                 x=(145.1, 145.2),\n",
    "                 y=(-38.4, -38.5),\n",
    "                 time=(\"2018-01-01\", \"2018-01-07\"),\n",
    "                 crs=\"epsg:4326\",\n",
    "                 output_crs=\"epsg:4326\",\n",
    "                 resolution=(-0.01, 0.01))\n",
    "\n",
    "print(ds_rgb)"
   ]
  },
  {
   "cell_type": "markdown",
   "metadata": {},
   "source": [
    "Note that the **Data variables** component of the `xarray.Dataset` now includes only the measurements specified in the query (i.e. the `nbar_red`, `nbar_green` and `nbar_blue` satellite bands)."
   ]
  },
  {
   "cell_type": "markdown",
   "metadata": {},
   "source": [
    "### Loading data for coordinates in any CRS\n",
    "By default, `dc.load()` assumes that the queried `x` and `y` coordinates are in the `WGS84`/`EPSG:4326` CRS.\n",
    "If these coordinates are in a different coordinate system, specify this using the `crs` parameter.\n",
    "\n",
    "The example cell below loads data for a set of `x` and `y` coordinates defined in GDA94 / MGA zone 55 (`EPSG:28355`), ensuring that the `dc.load()` function accounts for this by including `crs=\"EPSG:28355\"`:"
   ]
  },
  {
   "cell_type": "code",
   "execution_count": 6,
   "metadata": {},
   "outputs": [
    {
     "name": "stdout",
     "output_type": "stream",
     "text": [
      "<xarray.Dataset>\n",
      "Dimensions:      (time: 1, x: 94, y: 61)\n",
      "Coordinates:\n",
      "  * time         (time) datetime64[ns] 2018-01-03T00:11:01.026000\n",
      "  * y            (y) float64 5.744e+06 5.744e+06 ... 5.73e+06 5.729e+06\n",
      "  * x            (x) float64 3.336e+05 3.339e+05 ... 3.566e+05 3.569e+05\n",
      "    spatial_ref  int32 28355\n",
      "Data variables:\n",
      "    nbar_red     (time, y, x) int16 388 433 495 514 542 ... 299 199 318 261 295\n",
      "    nbar_green   (time, y, x) int16 538 550 677 687 674 ... 407 300 414 407 400\n",
      "    nbar_blue    (time, y, x) int16 637 608 725 743 746 ... 486 367 445 479 499\n",
      "Attributes:\n",
      "    crs:           EPSG:28355\n",
      "    grid_mapping:  spatial_ref\n"
     ]
    }
   ],
   "source": [
    "# Note the new `x` and `y` coordinates and `crs` parameter\n",
    "ds_custom_crs = dc.load(product=\"ga_s2a_ard_nbar_granule\",\n",
    "                        measurements=[\"nbar_red\", \"nbar_green\", \"nbar_blue\"],\n",
    "                        time=(\"2018-01-01\", \"2018-01-07\"),\n",
    "                        x=(356895, 333715),\n",
    "                        y=(5729345, 5744446),\n",
    "                        output_crs=\"EPSG:28355\",\n",
    "                        crs=\"EPSG:28355\",\n",
    "                        resolution=(-250, 250))\n",
    "\n",
    "print(ds_custom_crs)"
   ]
  },
  {
   "cell_type": "markdown",
   "metadata": {},
   "source": [
    "Note that the `crs` attribute in the **Attributes** section has changed to `EPSG:28355`. "
   ]
  },
  {
   "cell_type": "markdown",
   "metadata": {},
   "source": [
    "### Spatial resampling methods\n",
    "When a product is re-projected to a different CRS and/or resolution, the new pixel grid may differ from the original input pixels by size, number and alignment.\n",
    "It is therefore necessary to apply a spatial \"resampling\" rule that allocates input pixel values into the new pixel grid.\n",
    "\n",
    "By default, `dc.load()` resamples pixel values using \"nearest neighbour\" resampling, which allocates each new pixel with the value of the closest input pixel.\n",
    "Depending on the type of data and the analysis being run, this may not be the most appropriate choice (e.g. for continuous data).\n",
    "\n",
    "The `resampling` parameter in `dc.load()` allows you to choose a custom resampling method from the following options: \n",
    "\n",
    "```\n",
    "\"nearest\", \"cubic\", \"bilinear\", \"cubic_spline\", \"lanczos\", \n",
    "\"average\", \"mode\", \"gauss\", \"max\", \"min\", \"med\", \"q1\", \"q3\"\n",
    "```\n",
    "\n",
    "The example cell below requests that all loaded data is resampled using \"average\" resampling:"
   ]
  },
  {
   "cell_type": "code",
   "execution_count": 7,
   "metadata": {},
   "outputs": [
    {
     "name": "stdout",
     "output_type": "stream",
     "text": [
      "<xarray.Dataset>\n",
      "Dimensions:      (time: 1, x: 94, y: 61)\n",
      "Coordinates:\n",
      "  * time         (time) datetime64[ns] 2018-01-03T00:11:01.026000\n",
      "  * y            (y) float64 5.744e+06 5.744e+06 ... 5.73e+06 5.729e+06\n",
      "  * x            (x) float64 3.336e+05 3.339e+05 ... 3.566e+05 3.569e+05\n",
      "    spatial_ref  int32 28355\n",
      "Data variables:\n",
      "    nbar_red     (time, y, x) int16 388 433 495 514 542 ... 299 199 318 261 295\n",
      "    nbar_green   (time, y, x) int16 538 550 677 687 674 ... 407 300 414 407 400\n",
      "    nbar_blue    (time, y, x) int16 637 608 725 743 746 ... 486 367 445 479 499\n",
      "Attributes:\n",
      "    crs:           EPSG:28355\n",
      "    grid_mapping:  spatial_ref\n"
     ]
    }
   ],
   "source": [
    "# Note the additional `resampling` parameter\n",
    "ds_averageresampling = dc.load(product=\"ga_s2a_ard_nbar_granule\",\n",
    "                               measurements=[\"nbar_red\", \"nbar_green\", \"nbar_blue\"],\n",
    "                               time=(\"2018-01-01\", \"2018-01-07\"),\n",
    "                               x=(356895, 333715),\n",
    "                               y=(5729345, 5744446),\n",
    "                               output_crs=\"EPSG:28355\",\n",
    "                               crs=\"EPSG:28355\",\n",
    "                               resolution=(-250, 250))\n",
    "\n",
    "print(ds_averageresampling)"
   ]
  },
  {
   "cell_type": "markdown",
   "metadata": {},
   "source": [
    "Python dictionaries can be used to request different sampling methods for different measurements. \n",
    "This can be particularly useful when some measurements contain contain categorical data which require resampling methods such as \"nearest\" or \"mode\" that do not modify the input pixel values.\n",
    "\n",
    "The example cell below specifies `resampling={\"nbar_red\": \"nearest\", \"*\": \"average\"}`, which implements \"nearest\" neighbour resampling for the `nbar_red` satellite band only. `\"*\": \"average\"` will apply \"average\" resampling for all other satellite bands:\n"
   ]
  },
  {
   "cell_type": "code",
   "execution_count": 8,
   "metadata": {},
   "outputs": [
    {
     "name": "stdout",
     "output_type": "stream",
     "text": [
      "<xarray.Dataset>\n",
      "Dimensions:      (time: 1, x: 94, y: 61)\n",
      "Coordinates:\n",
      "  * time         (time) datetime64[ns] 2018-01-03T00:11:01.026000\n",
      "  * y            (y) float64 5.744e+06 5.744e+06 ... 5.73e+06 5.729e+06\n",
      "  * x            (x) float64 3.336e+05 3.339e+05 ... 3.566e+05 3.569e+05\n",
      "    spatial_ref  int32 28355\n",
      "Data variables:\n",
      "    nbar_red     (time, y, x) int16 388 433 495 514 542 ... 299 199 318 261 295\n",
      "    nbar_green   (time, y, x) int16 566 600 655 680 666 ... 362 362 364 371 378\n",
      "    nbar_blue    (time, y, x) int16 647 673 738 765 756 ... 425 432 437 448 464\n",
      "Attributes:\n",
      "    crs:           EPSG:28355\n",
      "    grid_mapping:  spatial_ref\n"
     ]
    }
   ],
   "source": [
    "ds_customresampling = dc.load(product=\"ga_s2a_ard_nbar_granule\",\n",
    "                              measurements=[\"nbar_red\", \"nbar_green\", \"nbar_blue\"],\n",
    "                              time=(\"2018-01-01\", \"2018-01-07\"),\n",
    "                              x=(356895, 333715),\n",
    "                              y=(5729345, 5744446),\n",
    "                              output_crs=\"EPSG:28355\",\n",
    "                              crs=\"EPSG:28355\",\n",
    "                              resolution=(-250, 250),\n",
    "                              resampling={\"nbar_red\": \"nearest\", \"*\": \"average\"})\n",
    "\n",
    "print(ds_customresampling)"
   ]
  },
  {
   "cell_type": "markdown",
   "metadata": {},
   "source": [
    "> For more information about spatial resampling methods, see the [following guide](https://rasterio.readthedocs.io/en/stable/topics/resampling.html)"
   ]
  },
  {
   "cell_type": "markdown",
   "metadata": {},
   "source": [
    "## Loading data using the query dictionary syntax\n",
    "It is often useful to re-use a set of query parameters to load data from multiple products.\n",
    "To achieve this, load data using the \"query dictionary\" syntax.\n",
    "This involves placing the query parameters inside a Python dictionary object which can be re-used for multiple data loads:"
   ]
  },
  {
   "cell_type": "code",
   "execution_count": 9,
   "metadata": {},
   "outputs": [],
   "source": [
    "query = {\"x\": (145.1, 145.2),\n",
    "         \"y\": (-38.4, -38.5),\n",
    "         \"time\": (\"2018-01-01\", \"2018-01-07\"),\n",
    "         \"crs\": \"epsg:4326\",\n",
    "         \"output_crs\": \"epsg:4326\",\n",
    "         \"resolution\": (-0.01, 0.01),\n",
    "         \"measurements\": [\"nbar_red\", \"nbar_green\", \"nbar_blue\"]}"
   ]
  },
  {
   "cell_type": "markdown",
   "metadata": {},
   "source": [
    "The query dictionary object can be added as an input to `dc.load()`. \n",
    "\n",
    "> The `**` syntax below is Python's \"keyword argument unpacking\" operator.\n",
    "This operator takes the named query parameters listed in the query dictionary (e.g. `\"x\": (145.1, 145.2)`), and \"unpacks\" them into the `dc.load()` function as new arguments. \n",
    "For more information about unpacking operators, refer to the [Python documentation](https://docs.python.org/3/tutorial/controlflow.html#unpacking-argument-lists)"
   ]
  },
  {
   "cell_type": "code",
   "execution_count": 10,
   "metadata": {},
   "outputs": [
    {
     "name": "stdout",
     "output_type": "stream",
     "text": [
      "<xarray.Dataset>\n",
      "Dimensions:      (latitude: 10, longitude: 10, time: 1)\n",
      "Coordinates:\n",
      "  * time         (time) datetime64[ns] 2018-01-03T00:11:01.026000\n",
      "  * latitude     (latitude) float64 -38.41 -38.41 -38.43 ... -38.48 -38.48 -38.5\n",
      "  * longitude    (longitude) float64 145.1 145.1 145.1 ... 145.2 145.2 145.2\n",
      "    spatial_ref  int32 4326\n",
      "Data variables:\n",
      "    nbar_red     (time, latitude, longitude) int16 714 889 788 ... 1065 1274\n",
      "    nbar_green   (time, latitude, longitude) int16 878 1089 1033 ... 909 786 957\n",
      "    nbar_blue    (time, latitude, longitude) int16 831 1070 1075 ... 641 573 728\n",
      "Attributes:\n",
      "    crs:           epsg:4326\n",
      "    grid_mapping:  spatial_ref\n"
     ]
    }
   ],
   "source": [
    "ds = dc.load(product=\"ga_s2a_ard_nbar_granule\",\n",
    "             **query)\n",
    "\n",
    "print(ds)"
   ]
  },
  {
   "cell_type": "markdown",
   "metadata": {},
   "source": [
    "After specifying the reusable query, it can be easily used to load data from a different product.\n",
    "The example cell below loads Sentinel-2B data for the same extent, time, output CRS and resolution as the previously loaded Sentinel-2A data:"
   ]
  },
  {
   "cell_type": "code",
   "execution_count": 11,
   "metadata": {},
   "outputs": [
    {
     "name": "stdout",
     "output_type": "stream",
     "text": [
      "<xarray.Dataset>\n",
      "Dimensions:      (latitude: 10, longitude: 10, time: 1)\n",
      "Coordinates:\n",
      "  * time         (time) datetime64[ns] 2018-01-01T00:20:59.027000\n",
      "  * latitude     (latitude) float64 -38.41 -38.41 -38.43 ... -38.48 -38.48 -38.5\n",
      "  * longitude    (longitude) float64 145.1 145.1 145.1 ... 145.2 145.2 145.2\n",
      "    spatial_ref  int32 4326\n",
      "Data variables:\n",
      "    nbar_red     (time, latitude, longitude) int16 4814 4943 517 ... 2235 2105\n",
      "    nbar_green   (time, latitude, longitude) int16 4701 4799 727 ... 2237 2122\n",
      "    nbar_blue    (time, latitude, longitude) int16 4576 4630 774 ... 2197 2094\n",
      "Attributes:\n",
      "    crs:           epsg:4326\n",
      "    grid_mapping:  spatial_ref\n"
     ]
    }
   ],
   "source": [
    "ds_s2b = dc.load(product=\"ga_s2b_ard_nbar_granule\",\n",
    "                 **query)\n",
    "\n",
    "print(ds_s2b)"
   ]
  },
  {
   "cell_type": "markdown",
   "metadata": {},
   "source": [
    "## Other helpful tricks\n",
    "### Adding a progress bar\n",
    "When loading large amounts of data, it can be useful to view the progress of the data load. \n",
    "The `progress_cbk` parameter in `dc.load()` adds a progress bar that indicates how the load is progressing:\n",
    "\n",
    "![Progress bar](../Supplementary_data/04_Loading_data/progress_bar.jpg)\n",
    "\n",
    "The example cell below loads a full month of data (December 2017) from the `ga_s2a_ard_nbar_granule` product with a progress bar:"
   ]
  },
  {
   "cell_type": "code",
   "execution_count": 12,
   "metadata": {},
   "outputs": [
    {
     "data": {
      "application/vnd.jupyter.widget-view+json": {
       "model_id": "a5b02d281aa744a096148d68e72327a1",
       "version_major": 2,
       "version_minor": 0
      },
      "text/plain": [
       "VBox(children=(HBox(children=(Label(value=''), Label(value='')), layout=Layout(justify_content='space-between'…"
      ]
     },
     "metadata": {},
     "output_type": "display_data"
    },
    {
     "name": "stdout",
     "output_type": "stream",
     "text": [
      "<xarray.Dataset>\n",
      "Dimensions:      (time: 3, x: 94, y: 61)\n",
      "Coordinates:\n",
      "  * time         (time) datetime64[ns] 2017-12-07T00:20:51.026000 ... 2017-12-27T00:20:51.026000\n",
      "  * y            (y) float64 5.744e+06 5.744e+06 ... 5.73e+06 5.729e+06\n",
      "  * x            (x) float64 3.336e+05 3.339e+05 ... 3.566e+05 3.569e+05\n",
      "    spatial_ref  int32 28355\n",
      "Data variables:\n",
      "    nbar_red     (time, y, x) int16 4558 4028 3448 2712 655 ... 542 472 596 460\n",
      "    nbar_green   (time, y, x) int16 4464 4011 3365 2872 963 ... 605 580 674 547\n",
      "    nbar_blue    (time, y, x) int16 4350 4049 3192 3060 1147 ... 676 685 715 654\n",
      "Attributes:\n",
      "    crs:           epsg:28355\n",
      "    grid_mapping:  spatial_ref\n"
     ]
    }
   ],
   "source": [
    "query = {\"x\": (356895, 333715),\n",
    "         \"y\": (5729345, 5744446),\n",
    "         \"time\": (\"2017-12\"),\n",
    "         \"crs\": \"epsg:28355\",\n",
    "         \"output_crs\": \"epsg:28355\",\n",
    "         \"resolution\": (-250, 250)}\n",
    "\n",
    "ds_progress = dc.load(product=\"ga_s2a_ard_nbar_granule\",\n",
    "                      measurements=[\"nbar_red\", \"nbar_green\", \"nbar_blue\"],\n",
    "                      progress_cbk=with_ui_cbk(),\n",
    "                      **query)\n",
    "\n",
    "print(ds_progress)"
   ]
  },
  {
   "cell_type": "markdown",
   "metadata": {},
   "source": [
    "## Recommended next steps\n",
    "\n",
    "To continue working through the notebooks in this beginner's guide, the following notebooks are designed to be worked through in the following order:\n",
    "\n",
    "1. [Jupyter Notebooks](01_Jupyter_notebooks.ipynb)\n",
    "2. [Digital Earth Australia](02_DEA.ipynb)\n",
    "3. [Products and measurements](03_Products_and_measurements.ipynb)\n",
    "4. **Loading data (this notebook)**\n",
    "5. [Plotting](05_Plotting.ipynb)\n",
    "6. [Performing a basic analysis](06_Basic_analysis.ipynb)\n",
    "7. [Introduction to Numpy](07_Intro_to_numpy.ipynb)\n",
    "8. [Introduction to Xarray](08_Intro_to_xarray.ipynb)\n",
    "9. [Parallel processing with Dask](09_Parallel_processing_with_dask.ipynb)"
   ]
  },
  {
   "cell_type": "markdown",
   "metadata": {},
   "source": [
    "***\n",
    "## Additional information\n",
    "\n",
    "**License:** The code in this notebook is licensed under the [Apache License, Version 2.0](https://www.apache.org/licenses/LICENSE-2.0). \n",
    "Digital Earth Australia data is licensed under the [Creative Commons by Attribution 4.0](https://creativecommons.org/licenses/by/4.0/) license.\n",
    "\n",
    "**Contact:** If you need assistance, please review the FAQ section and support options on the [EY Data Science platform](https://datascience.ey.com/)."
   ]
  }
 ],
 "metadata": {
  "kernelspec": {
   "display_name": "Python 3",
   "language": "python",
   "name": "python3"
  },
  "language_info": {
   "codemirror_mode": {
    "name": "ipython",
    "version": 3
   },
   "file_extension": ".py",
   "mimetype": "text/x-python",
   "name": "python",
   "nbconvert_exporter": "python",
   "pygments_lexer": "ipython3",
   "version": "3.6.9"
  },
  "widgets": {
   "application/vnd.jupyter.widget-state+json": {
    "state": {},
    "version_major": 2,
    "version_minor": 0
   }
  }
 },
 "nbformat": 4,
 "nbformat_minor": 4
}
